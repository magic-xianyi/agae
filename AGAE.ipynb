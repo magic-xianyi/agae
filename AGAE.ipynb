{
 "cells": [
  {
   "cell_type": "code",
   "execution_count": 2,
   "metadata": {
    "id": "6u1DGKsAlLF-"
   },
   "outputs": [],
   "source": [
    "import numpy as np\n",
    "import pandas as pd\n",
    "import matplotlib.pyplot as plt\n",
    "import seaborn as sns\n",
    "import torch\n",
    "import torch.nn as nn\n",
    "from agae import *\n",
    "from utils import *\n",
    "from sklearn.metrics import f1_score"
   ]
  },
  {
   "cell_type": "code",
   "execution_count": 3,
   "metadata": {
    "colab": {
     "base_uri": "https://localhost:8080/",
     "height": 34
    },
    "id": "4AzWlDBI_djV",
    "outputId": "7a8d0c19-2389-461b-c0be-3427a25dda91"
   },
   "outputs": [
    {
     "name": "stdout",
     "output_type": "stream",
     "text": [
      "1.13.1+cu117\n",
      "cuda\n"
     ]
    }
   ],
   "source": [
    "\n",
    "device = get_default_device()\n",
    "print(torch.__version__)  #注意是双下划线\n",
    "print(device)"
   ]
  },
  {
   "cell_type": "markdown",
   "metadata": {
    "id": "kfSj4FYL9W8Y"
   },
   "source": [
    "### 处理正常数据"
   ]
  },
  {
   "cell_type": "code",
   "execution_count": 47,
   "metadata": {
    "colab": {
     "base_uri": "https://localhost:8080/",
     "height": 87
    },
    "id": "XeDLxV_r1G9n",
    "outputId": "576538dd-64f2-46fa-8e6f-6c2ffdebad15"
   },
   "outputs": [
    {
     "name": "stdout",
     "output_type": "stream",
     "text": [
      "                Timestamp    FIT101    LIT101  MV101  P101  P102    AIT201  \\\n",
      "0   22/12/2015 4:00:00 PM  2.470294  261.5804      2     2     1  244.3284   \n",
      "1   22/12/2015 4:00:01 PM  2.457163  261.1879      2     2     1  244.3284   \n",
      "2   22/12/2015 4:00:02 PM  2.439548  260.9131      2     2     1  244.3284   \n",
      "3   22/12/2015 4:00:03 PM  2.428338  260.2850      2     2     1  244.3284   \n",
      "4   22/12/2015 4:00:04 PM  2.424815  259.8925      2     2     1  244.4245   \n",
      "\n",
      "    AIT202   AIT203    FIT201  ...  P501  P502    PIT501  PIT502    PIT503  \\\n",
      "0  8.19008  306.101  2.471278  ...     1     1  10.02948     0.0  4.277749   \n",
      "1  8.19008  306.101  2.468587  ...     1     1  10.02948     0.0  4.277749   \n",
      "2  8.19008  306.101  2.467305  ...     1     1  10.02948     0.0  4.277749   \n",
      "3  8.19008  306.101  2.466536  ...     1     1  10.02948     0.0  4.277749   \n",
      "4  8.19008  306.101  2.466536  ...     1     1  10.02948     0.0  4.277749   \n",
      "\n",
      "     FIT601  P601  P602  P603  Normal/Attack  \n",
      "0  0.000256     1     1     1         Normal  \n",
      "1  0.000256     1     1     1         Normal  \n",
      "2  0.000256     1     1     1         Normal  \n",
      "3  0.000256     1     1     1         Normal  \n",
      "4  0.000256     1     1     1         Normal  \n",
      "\n",
      "[5 rows x 53 columns]\n",
      "Index(['Timestamp', 'FIT101', 'LIT101', 'MV101', 'P101', 'P102', 'AIT201',\n",
      "       'AIT202', 'AIT203', 'FIT201', 'MV201', 'P201', 'P202', 'P203', 'P204',\n",
      "       'P205', 'P206', 'DPIT301', 'FIT301', 'LIT301', 'MV301', 'MV302',\n",
      "       'MV303', 'MV304', 'P301', 'P302', 'AIT401', 'AIT402', 'FIT401',\n",
      "       'LIT401', 'P401', 'P402', 'P403', 'P404', 'UV401', 'AIT501', 'AIT502',\n",
      "       'AIT503', 'AIT504', 'FIT501', 'FIT502', 'FIT503', 'FIT504', 'P501',\n",
      "       'P502', 'PIT501', 'PIT502', 'PIT503', 'FIT601', 'P601', 'P602', 'P603',\n",
      "       'Normal/Attack'],\n",
      "      dtype='object')\n"
     ]
    }
   ],
   "source": [
    "#Read data\n",
    "normal = pd.read_csv(\"input/SWaT_Dataset_Normal.csv\", header=0)#, nrows=1000)\n",
    "print(normal.head())\n",
    "print(normal.columns)"
   ]
  },
  {
   "cell_type": "code",
   "execution_count": 48,
   "metadata": {},
   "outputs": [
    {
     "name": "stdout",
     "output_type": "stream",
     "text": [
      "     FIT101    LIT101  MV101  P101  P102    AIT201   AIT202   AIT203  \\\n",
      "0  2.470294  261.5804      2     2     1  244.3284  8.19008  306.101   \n",
      "1  2.457163  261.1879      2     2     1  244.3284  8.19008  306.101   \n",
      "2  2.439548  260.9131      2     2     1  244.3284  8.19008  306.101   \n",
      "3  2.428338  260.2850      2     2     1  244.3284  8.19008  306.101   \n",
      "4  2.424815  259.8925      2     2     1  244.4245  8.19008  306.101   \n",
      "\n",
      "     FIT201  MV201  ...  FIT504  P501  P502    PIT501  PIT502    PIT503  \\\n",
      "0  2.471278      2  ...     0.0     1     1  10.02948     0.0  4.277749   \n",
      "1  2.468587      2  ...     0.0     1     1  10.02948     0.0  4.277749   \n",
      "2  2.467305      2  ...     0.0     1     1  10.02948     0.0  4.277749   \n",
      "3  2.466536      2  ...     0.0     1     1  10.02948     0.0  4.277749   \n",
      "4  2.466536      2  ...     0.0     1     1  10.02948     0.0  4.277749   \n",
      "\n",
      "     FIT601  P601  P602  P603  \n",
      "0  0.000256     1     1     1  \n",
      "1  0.000256     1     1     1  \n",
      "2  0.000256     1     1     1  \n",
      "3  0.000256     1     1     1  \n",
      "4  0.000256     1     1     1  \n",
      "\n",
      "[5 rows x 51 columns]\n",
      "       FIT101    LIT101  MV101  P101  P102    AIT201   AIT202    AIT203  \\\n",
      "0    2.470294  261.5804      2     2     1  244.3284  8.19008  306.1010   \n",
      "1    2.457163  261.1879      2     2     1  244.3284  8.19008  306.1010   \n",
      "2    2.439548  260.9131      2     2     1  244.3284  8.19008  306.1010   \n",
      "3    2.428338  260.2850      2     2     1  244.3284  8.19008  306.1010   \n",
      "4    2.424815  259.8925      2     2     1  244.4245  8.19008  306.1010   \n",
      "..        ...       ...    ...   ...   ...       ...      ...       ...   \n",
      "216  2.620184  266.5262      0     1     1  251.4740  8.26506  311.9200   \n",
      "217  2.624347  266.6832      0     1     1  251.4740  8.26506  311.9200   \n",
      "218  2.624347  266.6832      0     1     1  251.4740  8.26506  311.9200   \n",
      "219  2.590078  266.6832      0     1     1  251.4740  8.26506  311.9200   \n",
      "220  2.521538  266.6832      1     1     1  251.4740  8.26506  311.5868   \n",
      "\n",
      "       FIT201  MV201  ...  FIT504  P501  P502     PIT501    PIT502  \\\n",
      "0    2.471278      2  ...     0.0     1     1   10.02948  0.000000   \n",
      "1    2.468587      2  ...     0.0     1     1   10.02948  0.000000   \n",
      "2    2.467305      2  ...     0.0     1     1   10.02948  0.000000   \n",
      "3    2.466536      2  ...     0.0     1     1   10.02948  0.000000   \n",
      "4    2.466536      2  ...     0.0     1     1   10.02948  0.000000   \n",
      "..        ...    ...  ...     ...   ...   ...        ...       ...   \n",
      "216  1.772851      0  ...     0.0     1     1  162.84290  2.883414   \n",
      "217  1.368020      0  ...     0.0     1     1  168.08190  2.883414   \n",
      "218  0.962163      0  ...     0.0     1     1  171.33430  2.963509   \n",
      "219  0.623330      0  ...     0.0     1     1  173.94580  2.963509   \n",
      "220  0.369718      1  ...     0.0     1     1  176.49320  3.091660   \n",
      "\n",
      "         PIT503    FIT601  P601  P602  P603  \n",
      "0      4.277749  0.000256     1     1     1  \n",
      "1      4.277749  0.000256     1     1     1  \n",
      "2      4.277749  0.000256     1     1     1  \n",
      "3      4.277749  0.000256     1     1     1  \n",
      "4      4.277749  0.000256     1     1     1  \n",
      "..          ...       ...   ...   ...   ...  \n",
      "216  131.793100  0.000256     1     1     1  \n",
      "217  137.000100  0.000256     1     1     1  \n",
      "218  139.868000  0.000256     1     1     1  \n",
      "219  142.479500  0.000256     1     1     1  \n",
      "220  144.818600  0.000256     1     1     1  \n",
      "\n",
      "[221 rows x 51 columns]\n"
     ]
    }
   ],
   "source": [
    "normal = normal.drop([\"Timestamp\" , \"Normal/Attack\" ] , axis = 1)\n",
    "normal.shape\n",
    "print(normal.head())"
   ]
  },
  {
   "cell_type": "code",
   "execution_count": 49,
   "metadata": {
    "id": "fFuLm1GH1G2n",
    "pycharm": {
     "name": "#%%\n"
    }
   },
   "outputs": [],
   "source": [
    "# Transform all columns into float64\n",
    "normal = normal.astype(float)"
   ]
  },
  {
   "cell_type": "code",
   "execution_count": 50,
   "metadata": {
    "id": "Mfxj4Uxn9kv4",
    "pycharm": {
     "name": "#%%\n"
    }
   },
   "outputs": [],
   "source": [
    "from sklearn import preprocessing\n",
    "min_max_scaler = preprocessing.MinMaxScaler()\n",
    "\n",
    "x = normal.values\n",
    "x_scaled = min_max_scaler.fit_transform(x)\n",
    "normal = pd.DataFrame(x_scaled)"
   ]
  },
  {
   "cell_type": "code",
   "execution_count": 56,
   "metadata": {
    "colab": {
     "base_uri": "https://localhost:8080/",
     "height": 126
    },
    "id": "mQ6_U4jn9nlw",
    "outputId": "f1cc1bd6-f1cc-4764-b1cc-2fd989ac4918",
    "pycharm": {
     "name": "#%%\n"
    }
   },
   "outputs": [
    {
     "name": "stdout",
     "output_type": "stream",
     "text": [
      "[0.2729987  0.27286366 0.27275194 0.27265169 0.27268711 0.27280936\n",
      " 0.27314225 0.27346321 0.27378629 0.27421398 0.2744493  0.27460317\n",
      " 0.27472154 0.27468265 0.27472021 0.27466063 0.27464239 0.27457431\n",
      " 0.27448425 0.27438619 0.2745659  0.27451356 0.27436974 0.27429671\n",
      " 0.27421838 0.27407674 0.27381944 0.27369325 0.27360629 0.27359413\n",
      " 0.27366237 0.27408204 0.27445094 0.27471766 0.27500627 0.27526988\n",
      " 0.27536806 0.27551966 0.27558808 0.27544093 0.27550588 0.27557284\n",
      " 0.27555357 0.27544743 0.27533651 0.27541535 0.27534096 0.27524429\n",
      " 0.27517177 0.27504513 0.27496534 0.27502209 0.27502209 0.27475794\n",
      " 0.27465357 0.27466789 0.27463906 0.27460082 0.27498497 0.27530083\n",
      " 0.27530083 0.27562008 0.27598981 0.27645329 0.27674485 0.27681039\n",
      " 0.27679953 0.27659583 0.27661636 0.276644   0.27665845 0.27655593\n",
      " 0.27643331 0.276273   0.27626358 0.27616246 0.27609264 0.27610508\n",
      " 0.27609592 0.27597123 0.27588522 0.27597073 0.2761077  0.27611228\n",
      " 0.27631458 0.27675998 0.27701333 0.27732853 0.27757613 0.27771886\n",
      " 0.27771886 0.27786725 0.27786721 0.27777929 0.27767161 0.27766378\n",
      " 0.27772053 0.27776802 0.27766662 0.27772671 0.27758018 0.27750842\n",
      " 0.27740238 0.27747044 0.27733764 0.2774417  0.27736139 0.27745485\n",
      " 0.27757844 0.27808333 0.27859389 0.27892991 0.27921132 0.27934824\n",
      " 0.27946364 0.27963951 0.27964088 0.27950015 0.27946883 0.27932008\n",
      " 0.27922166 0.27899869 0.27896022 0.27890772 0.27883757 0.27882307\n",
      " 0.27882724 0.2787293  0.27870587 0.27862735 0.27872014 0.27870011\n",
      " 0.27867169 0.27870917 0.27917503 0.2796776  0.27990481 0.28020997\n",
      " 0.28066401 0.28092367 0.28101058 0.28102717 0.28086282 0.28079751\n",
      " 0.28078467 0.28070792 0.28058457 0.28052806 0.28039193 0.28025886\n",
      " 0.28025886 0.28011815 0.28000695 0.27990525 0.27985584 0.27977306\n",
      " 0.2797426  0.27975824 0.27970949 0.27977527 0.2798657  0.28021049\n",
      " 0.2805683  0.28086617 0.2810892  0.2813513  0.28143788 0.28150487\n",
      " 0.28170559 0.28165487 0.28155595 0.28144454 0.2813711  0.28140265\n",
      " 0.28140484 0.28135853 0.28132565 0.28124995 0.28115277 0.28101103\n",
      " 0.28085132 0.28082    0.28071623 0.28084793 0.28075518 0.28072737\n",
      " 0.28076921 0.28101621 0.28137536 0.2817651  0.28211975 0.28227284\n",
      " 0.27830392 0.27835392 0.25834309 0.25569442 0.25146953 0.24380959\n",
      " 0.2409876  0.23598843 0.23043437 0.23761549 0.2356506  0.25376271\n",
      " 0.25288792 0.27482068 0.28099706 0.29389633 0.30733325 0.30733325\n",
      " 0.31835986 0.28429822 0.2549926  0.26208672 0.26750328 0.2696779\n",
      " 0.27191229 0.27059861 0.2694491  0.26838342 0.28816653]\n"
     ]
    }
   ],
   "source": [
    "normal.head(2)\n"
   ]
  },
  {
   "cell_type": "markdown",
   "metadata": {
    "id": "_i71RFAi9spa",
    "pycharm": {
     "name": "#%% md\n"
    }
   },
   "source": [
    "### 处理攻击数据"
   ]
  },
  {
   "cell_type": "code",
   "execution_count": 26,
   "metadata": {
    "colab": {
     "base_uri": "https://localhost:8080/",
     "height": 87
    },
    "id": "aN_TFp5x9uTE",
    "outputId": "38d7993d-c9a3-461d-c430-ebde697afbc6",
    "pycharm": {
     "is_executing": true,
     "name": "#%%\n"
    }
   },
   "outputs": [
    {
     "name": "stdout",
     "output_type": "stream",
     "text": [
      "RangeIndex(start=0, stop=51, step=1)\n",
      "测试数据集形状：(233, 51)，标签长度：233\n"
     ]
    }
   ],
   "source": [
    "#Read data\n",
    "#attack = pd.read_csv(\"input/SWaT_Dataset_Attack.csv\",header=0)#, nrows=1000)\n",
    "attack = pd.read_csv(\"C:\\\\Users\\\\helloworld\\\\Desktop\\\\swat\\\\sample.csv\",header=0)#, nrows=1000)\n",
    "print(normal.columns)\n",
    "labels = [ float(label!= 'Normal' ) for label  in attack[\"Normal/Attack\"].values] #等于normal就是0，异常就是1\n",
    "attack = attack.drop([\"Timestamp\" , \"Normal/Attack\" ] , axis = 1)\n",
    "print(\"测试数据集形状：{}，标签长度：{}\".format(attack.shape, len(labels)))"
   ]
  },
  {
   "cell_type": "code",
   "execution_count": 27,
   "metadata": {
    "id": "jZrha9cO-BGK",
    "pycharm": {
     "is_executing": true
    }
   },
   "outputs": [],
   "source": [
    "# Transform all columns into float64\n",
    "attack = attack.astype(float)\n",
    "x2 = attack.values\n",
    "x_scaled2 = min_max_scaler.fit_transform(x2)\n",
    "attack = pd.DataFrame(x_scaled2)"
   ]
  },
  {
   "cell_type": "code",
   "execution_count": 28,
   "metadata": {
    "id": "vyplttZa-BRN",
    "pycharm": {
     "is_executing": true
    }
   },
   "outputs": [
    {
     "data": {
      "text/html": [
       "<div>\n",
       "<style scoped>\n",
       "    .dataframe tbody tr th:only-of-type {\n",
       "        vertical-align: middle;\n",
       "    }\n",
       "\n",
       "    .dataframe tbody tr th {\n",
       "        vertical-align: top;\n",
       "    }\n",
       "\n",
       "    .dataframe thead th {\n",
       "        text-align: right;\n",
       "    }\n",
       "</style>\n",
       "<table border=\"1\" class=\"dataframe\">\n",
       "  <thead>\n",
       "    <tr style=\"text-align: right;\">\n",
       "      <th></th>\n",
       "      <th>0</th>\n",
       "      <th>1</th>\n",
       "      <th>2</th>\n",
       "      <th>3</th>\n",
       "      <th>4</th>\n",
       "      <th>5</th>\n",
       "      <th>6</th>\n",
       "      <th>7</th>\n",
       "      <th>8</th>\n",
       "      <th>9</th>\n",
       "      <th>...</th>\n",
       "      <th>41</th>\n",
       "      <th>42</th>\n",
       "      <th>43</th>\n",
       "      <th>44</th>\n",
       "      <th>45</th>\n",
       "      <th>46</th>\n",
       "      <th>47</th>\n",
       "      <th>48</th>\n",
       "      <th>49</th>\n",
       "      <th>50</th>\n",
       "    </tr>\n",
       "  </thead>\n",
       "  <tbody>\n",
       "    <tr>\n",
       "      <th>0</th>\n",
       "      <td>0.226206</td>\n",
       "      <td>0.242423</td>\n",
       "      <td>0.0</td>\n",
       "      <td>0.0</td>\n",
       "      <td>0.0</td>\n",
       "      <td>0.0</td>\n",
       "      <td>0.571444</td>\n",
       "      <td>1.0</td>\n",
       "      <td>0.379994</td>\n",
       "      <td>0.0</td>\n",
       "      <td>...</td>\n",
       "      <td>0.421051</td>\n",
       "      <td>0.0</td>\n",
       "      <td>0.0</td>\n",
       "      <td>0.285743</td>\n",
       "      <td>0.473686</td>\n",
       "      <td>0.454607</td>\n",
       "      <td>0.0</td>\n",
       "      <td>0.0</td>\n",
       "      <td>0.0</td>\n",
       "      <td>0.0</td>\n",
       "    </tr>\n",
       "    <tr>\n",
       "      <th>1</th>\n",
       "      <td>0.226206</td>\n",
       "      <td>0.242423</td>\n",
       "      <td>0.0</td>\n",
       "      <td>0.0</td>\n",
       "      <td>0.0</td>\n",
       "      <td>0.0</td>\n",
       "      <td>0.571444</td>\n",
       "      <td>1.0</td>\n",
       "      <td>0.379994</td>\n",
       "      <td>0.0</td>\n",
       "      <td>...</td>\n",
       "      <td>0.421051</td>\n",
       "      <td>0.0</td>\n",
       "      <td>0.0</td>\n",
       "      <td>0.285743</td>\n",
       "      <td>0.473686</td>\n",
       "      <td>0.454607</td>\n",
       "      <td>0.0</td>\n",
       "      <td>0.0</td>\n",
       "      <td>0.0</td>\n",
       "      <td>0.0</td>\n",
       "    </tr>\n",
       "  </tbody>\n",
       "</table>\n",
       "<p>2 rows × 51 columns</p>\n",
       "</div>"
      ],
      "text/plain": [
       "         0         1    2    3    4    5         6    7         8    9   ...  \\\n",
       "0  0.226206  0.242423  0.0  0.0  0.0  0.0  0.571444  1.0  0.379994  0.0  ...   \n",
       "1  0.226206  0.242423  0.0  0.0  0.0  0.0  0.571444  1.0  0.379994  0.0  ...   \n",
       "\n",
       "         41   42   43        44        45        46   47   48   49   50  \n",
       "0  0.421051  0.0  0.0  0.285743  0.473686  0.454607  0.0  0.0  0.0  0.0  \n",
       "1  0.421051  0.0  0.0  0.285743  0.473686  0.454607  0.0  0.0  0.0  0.0  \n",
       "\n",
       "[2 rows x 51 columns]"
      ]
     },
     "execution_count": 28,
     "metadata": {},
     "output_type": "execute_result"
    }
   ],
   "source": [
    "attack.head(2)"
   ]
  },
  {
   "cell_type": "code",
   "execution_count": 29,
   "metadata": {
    "colab": {
     "base_uri": "https://localhost:8080/",
     "height": 34
    },
    "id": "dzGJMp6Y-BN5",
    "outputId": "2949d278-1313-442c-f06b-275a8c6c6578",
    "pycharm": {
     "is_executing": true
    }
   },
   "outputs": [
    {
     "name": "stdout",
     "output_type": "stream",
     "text": [
      "(496800, 51)\n"
     ]
    },
    {
     "data": {
      "text/plain": [
       "(496788, 12, 51)"
      ]
     },
     "execution_count": 29,
     "metadata": {},
     "output_type": "execute_result"
    }
   ],
   "source": [
    "print(normal.shape)\n",
    "window_size = 12\n",
    "windows_normal=normal.values[np.arange(window_size)[None, :] + np.arange(normal.shape[0]-window_size)[:, None]] #窗口化处理\n",
    "windows_normal.shape"
   ]
  },
  {
   "cell_type": "code",
   "execution_count": 30,
   "metadata": {
    "colab": {
     "base_uri": "https://localhost:8080/",
     "height": 34
    },
    "id": "17LdB3c8-pRH",
    "outputId": "721059d4-5937-4dd3-d73c-e5d255fc273c"
   },
   "outputs": [
    {
     "data": {
      "text/plain": [
       "(221, 12, 51)"
      ]
     },
     "execution_count": 30,
     "metadata": {},
     "output_type": "execute_result"
    }
   ],
   "source": [
    "windows_attack=attack.values[np.arange(window_size)[None, :] + np.arange(attack.shape[0]-window_size)[:, None]]\n",
    "windows_attack.shape"
   ]
  },
  {
   "cell_type": "code",
   "execution_count": 31,
   "metadata": {
    "id": "yi9S0SGnDKNc",
    "pycharm": {
     "is_executing": true
    }
   },
   "outputs": [],
   "source": [
    "## Training"
   ]
  },
  {
   "cell_type": "code",
   "execution_count": 32,
   "metadata": {},
   "outputs": [],
   "source": [
    "import torch.utils.data as data_utils\n",
    "\n",
    "BATCH_SIZE =  7000\n",
    "N_EPOCHS = 100\n",
    "hidden_size = 200"
   ]
  },
  {
   "cell_type": "code",
   "execution_count": 33,
   "metadata": {
    "pycharm": {
     "is_executing": true
    }
   },
   "outputs": [
    {
     "name": "stdout",
     "output_type": "stream",
     "text": [
      "输入层维度：612， 潜空间维度：200，训练数据集：(397430, 12, 51)，验证数据集：(99358, 12, 51)\n"
     ]
    }
   ],
   "source": [
    "w_size=windows_normal.shape[1]*windows_normal.shape[2]\n",
    "z_size=hidden_size\n",
    "windows_normal_train = windows_normal[:int(np.floor(.8 *  windows_normal.shape[0]))]\n",
    "windows_normal_val = windows_normal[int(np.floor(.8 *  windows_normal.shape[0])):int(np.floor(windows_normal.shape[0]))]\n",
    "print(\"输入层维度：{}， 潜空间维度：{}，训练数据集：{}，验证数据集：{}\".format(w_size, z_size, windows_normal_train.shape, windows_normal_val.shape))"
   ]
  },
  {
   "cell_type": "code",
   "execution_count": 34,
   "metadata": {
    "pycharm": {
     "is_executing": true
    }
   },
   "outputs": [],
   "source": [
    "train_loader = torch.utils.data.DataLoader(data_utils.TensorDataset(\n",
    "    torch.from_numpy(windows_normal_train).float().view(([windows_normal_train.shape[0],w_size]))\n",
    ") , batch_size=BATCH_SIZE, shuffle=False, num_workers=0)\n",
    "\n",
    "val_loader = torch.utils.data.DataLoader(data_utils.TensorDataset(\n",
    "    torch.from_numpy(windows_normal_val).float().view(([windows_normal_val.shape[0],w_size]))\n",
    ") , batch_size=BATCH_SIZE, shuffle=False, num_workers=0)\n",
    "test_loader = torch.utils.data.DataLoader(data_utils.TensorDataset(\n",
    "    torch.from_numpy(windows_attack).float().view(([windows_attack.shape[0],w_size]))\n",
    ") , batch_size=BATCH_SIZE, shuffle=False, num_workers=0)\n",
    "model = AGAEModel(w_size, z_size)\n",
    "model = to_device(model,device)"
   ]
  },
  {
   "cell_type": "code",
   "execution_count": 43,
   "metadata": {
    "colab": {
     "base_uri": "https://localhost:8080/",
     "height": 1000
    },
    "id": "So9yjDPEDObC",
    "outputId": "629bcd13-37b1-4907-ef0d-46d9e3ad5398",
    "pycharm": {
     "is_executing": true
    }
   },
   "outputs": [
    {
     "name": "stdout",
     "output_type": "stream",
     "text": [
      "Epoch [0], 训练耗时：4.29s, val_loss1: 0.0249, val_loss2: 0.0248\n",
      "Epoch [1], 训练耗时：3.75s, val_loss1: 0.0266, val_loss2: -0.0030\n",
      "Epoch [2], 训练耗时：4.11s, val_loss1: 0.0268, val_loss2: -0.0111\n",
      "Epoch [3], 训练耗时：3.97s, val_loss1: 0.0274, val_loss2: -0.0156\n",
      "Epoch [4], 训练耗时：3.95s, val_loss1: 0.0277, val_loss2: -0.0181\n",
      "Epoch [5], 训练耗时：3.87s, val_loss1: 0.0280, val_loss2: -0.0200\n",
      "Epoch [6], 训练耗时：3.84s, val_loss1: 0.0288, val_loss2: -0.0217\n",
      "Epoch [7], 训练耗时：4.13s, val_loss1: 0.0295, val_loss2: -0.0232\n",
      "Epoch [8], 训练耗时：4.07s, val_loss1: 0.0289, val_loss2: -0.0234\n",
      "Epoch [9], 训练耗时：3.94s, val_loss1: 0.0289, val_loss2: -0.0240\n",
      "Epoch [10], 训练耗时：4.41s, val_loss1: 0.0300, val_loss2: -0.0254\n",
      "Epoch [11], 训练耗时：4.10s, val_loss1: 0.0293, val_loss2: -0.0251\n",
      "Epoch [12], 训练耗时：3.80s, val_loss1: 0.0292, val_loss2: -0.0253\n",
      "Epoch [13], 训练耗时：4.04s, val_loss1: 0.0298, val_loss2: -0.0261\n",
      "Epoch [14], 训练耗时：4.14s, val_loss1: 0.0291, val_loss2: -0.0257\n",
      "Epoch [15], 训练耗时：3.91s, val_loss1: 0.0299, val_loss2: -0.0267\n",
      "Epoch [16], 训练耗时：3.70s, val_loss1: 0.0294, val_loss2: -0.0263\n",
      "Epoch [17], 训练耗时：3.84s, val_loss1: 0.0302, val_loss2: -0.0273\n",
      "Epoch [18], 训练耗时：3.83s, val_loss1: 0.0293, val_loss2: -0.0266\n",
      "Epoch [19], 训练耗时：3.92s, val_loss1: 0.0301, val_loss2: -0.0275\n",
      "Epoch [20], 训练耗时：4.06s, val_loss1: 0.0310, val_loss2: -0.0285\n",
      "Epoch [21], 训练耗时：4.10s, val_loss1: 0.0302, val_loss2: -0.0279\n",
      "Epoch [22], 训练耗时：3.88s, val_loss1: 0.0303, val_loss2: -0.0280\n",
      "Epoch [23], 训练耗时：3.71s, val_loss1: 0.0303, val_loss2: -0.0281\n",
      "Epoch [24], 训练耗时：4.00s, val_loss1: 0.0301, val_loss2: -0.0280\n",
      "Epoch [25], 训练耗时：4.18s, val_loss1: 0.0303, val_loss2: -0.0282\n",
      "Epoch [26], 训练耗时：4.01s, val_loss1: 0.0301, val_loss2: -0.0282\n",
      "Epoch [27], 训练耗时：3.86s, val_loss1: 0.0301, val_loss2: -0.0283\n",
      "Epoch [28], 训练耗时：4.05s, val_loss1: 0.0303, val_loss2: -0.0285\n",
      "Epoch [29], 训练耗时：4.05s, val_loss1: 0.0297, val_loss2: -0.0280\n",
      "Epoch [30], 训练耗时：4.11s, val_loss1: 0.0302, val_loss2: -0.0286\n",
      "Epoch [31], 训练耗时：3.92s, val_loss1: 0.0306, val_loss2: -0.0289\n",
      "Epoch [32], 训练耗时：4.16s, val_loss1: 0.0310, val_loss2: -0.0294\n",
      "Epoch [33], 训练耗时：4.12s, val_loss1: 0.0312, val_loss2: -0.0296\n",
      "Epoch [34], 训练耗时：3.85s, val_loss1: 0.0311, val_loss2: -0.0296\n",
      "Epoch [35], 训练耗时：4.14s, val_loss1: 0.0313, val_loss2: -0.0298\n",
      "Epoch [36], 训练耗时：4.41s, val_loss1: 0.0315, val_loss2: -0.0300\n",
      "Epoch [37], 训练耗时：4.38s, val_loss1: 0.0316, val_loss2: -0.0301\n",
      "Epoch [38], 训练耗时：4.21s, val_loss1: 0.0316, val_loss2: -0.0302\n",
      "Epoch [39], 训练耗时：4.28s, val_loss1: 0.0317, val_loss2: -0.0303\n",
      "Epoch [40], 训练耗时：3.89s, val_loss1: 0.0318, val_loss2: -0.0304\n",
      "Epoch [41], 训练耗时：4.12s, val_loss1: 0.0318, val_loss2: -0.0305\n",
      "Epoch [42], 训练耗时：4.33s, val_loss1: 0.0318, val_loss2: -0.0305\n",
      "Epoch [43], 训练耗时：4.19s, val_loss1: 0.0319, val_loss2: -0.0307\n",
      "Epoch [44], 训练耗时：3.98s, val_loss1: 0.0321, val_loss2: -0.0309\n",
      "Epoch [45], 训练耗时：4.38s, val_loss1: 0.0322, val_loss2: -0.0310\n",
      "Epoch [46], 训练耗时：4.00s, val_loss1: 0.0323, val_loss2: -0.0311\n",
      "Epoch [47], 训练耗时：4.11s, val_loss1: 0.0324, val_loss2: -0.0312\n",
      "Epoch [48], 训练耗时：3.75s, val_loss1: 0.0325, val_loss2: -0.0314\n",
      "Epoch [49], 训练耗时：4.16s, val_loss1: 0.0312, val_loss2: -0.0302\n",
      "Epoch [50], 训练耗时：3.92s, val_loss1: 0.0314, val_loss2: -0.0303\n",
      "Epoch [51], 训练耗时：4.21s, val_loss1: 0.0316, val_loss2: -0.0306\n",
      "Epoch [52], 训练耗时：4.04s, val_loss1: 0.0320, val_loss2: -0.0310\n",
      "Epoch [53], 训练耗时：4.07s, val_loss1: 0.0322, val_loss2: -0.0312\n",
      "Epoch [54], 训练耗时：3.75s, val_loss1: 0.0324, val_loss2: -0.0314\n",
      "Epoch [55], 训练耗时：3.93s, val_loss1: 0.0327, val_loss2: -0.0317\n",
      "Epoch [56], 训练耗时：4.28s, val_loss1: 0.0329, val_loss2: -0.0320\n",
      "Epoch [57], 训练耗时：3.84s, val_loss1: 0.0330, val_loss2: -0.0320\n",
      "Epoch [58], 训练耗时：4.05s, val_loss1: 0.0330, val_loss2: -0.0321\n",
      "Epoch [59], 训练耗时：4.38s, val_loss1: 0.0333, val_loss2: -0.0324\n",
      "Epoch [60], 训练耗时：3.87s, val_loss1: 0.0334, val_loss2: -0.0325\n",
      "Epoch [61], 训练耗时：3.77s, val_loss1: 0.0335, val_loss2: -0.0326\n",
      "Epoch [62], 训练耗时：3.91s, val_loss1: 0.0335, val_loss2: -0.0327\n",
      "Epoch [63], 训练耗时：3.97s, val_loss1: 0.0336, val_loss2: -0.0328\n",
      "Epoch [64], 训练耗时：3.95s, val_loss1: 0.0338, val_loss2: -0.0330\n",
      "Epoch [65], 训练耗时：4.33s, val_loss1: 0.0341, val_loss2: -0.0333\n",
      "Epoch [66], 训练耗时：3.96s, val_loss1: 0.0338, val_loss2: -0.0330\n",
      "Epoch [67], 训练耗时：3.94s, val_loss1: 0.0340, val_loss2: -0.0332\n",
      "Epoch [68], 训练耗时：4.18s, val_loss1: 0.0343, val_loss2: -0.0336\n",
      "Epoch [69], 训练耗时：4.01s, val_loss1: 0.0346, val_loss2: -0.0338\n",
      "Epoch [70], 训练耗时：4.50s, val_loss1: 0.0349, val_loss2: -0.0341\n",
      "Epoch [71], 训练耗时：3.91s, val_loss1: 0.0350, val_loss2: -0.0342\n",
      "Epoch [72], 训练耗时：4.03s, val_loss1: 0.0351, val_loss2: -0.0344\n",
      "Epoch [73], 训练耗时：4.08s, val_loss1: 0.0353, val_loss2: -0.0346\n",
      "Epoch [74], 训练耗时：4.11s, val_loss1: 0.0355, val_loss2: -0.0348\n",
      "Epoch [75], 训练耗时：4.28s, val_loss1: 0.0387, val_loss2: -0.0379\n",
      "Epoch [76], 训练耗时：3.85s, val_loss1: 0.0333, val_loss2: -0.0327\n",
      "Epoch [77], 训练耗时：3.96s, val_loss1: 0.0336, val_loss2: -0.0330\n",
      "Epoch [78], 训练耗时：4.10s, val_loss1: 0.0339, val_loss2: -0.0333\n",
      "Epoch [79], 训练耗时：4.25s, val_loss1: 0.0347, val_loss2: -0.0340\n",
      "Epoch [80], 训练耗时：3.99s, val_loss1: 0.0353, val_loss2: -0.0347\n",
      "Epoch [81], 训练耗时：3.81s, val_loss1: 0.0355, val_loss2: -0.0348\n",
      "Epoch [82], 训练耗时：3.98s, val_loss1: 0.0354, val_loss2: -0.0348\n",
      "Epoch [83], 训练耗时：3.88s, val_loss1: 0.0355, val_loss2: -0.0349\n",
      "Epoch [84], 训练耗时：4.32s, val_loss1: 0.0356, val_loss2: -0.0350\n",
      "Epoch [85], 训练耗时：4.10s, val_loss1: 0.0567, val_loss2: -0.0558\n",
      "Epoch [86], 训练耗时：3.98s, val_loss1: 0.0562, val_loss2: -0.0553\n",
      "Epoch [87], 训练耗时：4.09s, val_loss1: 0.0616, val_loss2: -0.0606\n",
      "Epoch [88], 训练耗时：4.14s, val_loss1: 0.0611, val_loss2: -0.0602\n",
      "Epoch [89], 训练耗时：4.03s, val_loss1: 0.0598, val_loss2: -0.0589\n",
      "Epoch [90], 训练耗时：4.08s, val_loss1: 0.0596, val_loss2: -0.0587\n",
      "Epoch [91], 训练耗时：4.10s, val_loss1: 0.0591, val_loss2: -0.0582\n",
      "Epoch [92], 训练耗时：3.89s, val_loss1: 0.0588, val_loss2: -0.0579\n",
      "Epoch [93], 训练耗时：3.93s, val_loss1: 0.0576, val_loss2: -0.0567\n",
      "Epoch [94], 训练耗时：3.91s, val_loss1: 0.0557, val_loss2: -0.0549\n",
      "Epoch [95], 训练耗时：4.18s, val_loss1: 0.0545, val_loss2: -0.0537\n",
      "Epoch [96], 训练耗时：3.96s, val_loss1: 0.0527, val_loss2: -0.0519\n",
      "Epoch [97], 训练耗时：4.24s, val_loss1: 0.0504, val_loss2: -0.0497\n",
      "Epoch [98], 训练耗时：4.17s, val_loss1: 0.0494, val_loss2: -0.0488\n",
      "Epoch [99], 训练耗时：3.86s, val_loss1: 0.0488, val_loss2: -0.0481\n"
     ]
    }
   ],
   "source": [
    "history = training(N_EPOCHS,model,train_loader,val_loader)"
   ]
  },
  {
   "cell_type": "code",
   "execution_count": 46,
   "metadata": {
    "colab": {
     "base_uri": "https://localhost:8080/",
     "height": 295
    },
    "id": "fYwlN0JKVVtN",
    "outputId": "c742ff8b-3b4a-41f5-dd09-effee1be928a",
    "pycharm": {
     "is_executing": true
    }
   },
   "outputs": [
    {
     "data": {
      "image/png": "[encoded data removed]",
      "text/plain": [
       "<Figure size 640x480 with 1 Axes>"
      ]
     },
     "metadata": {},
     "output_type": "display_data"
    }
   ],
   "source": [
    "plot_history(history)"
   ]
  },
  {
   "cell_type": "code",
   "execution_count": 47,
   "metadata": {
    "id": "ieObNqKYsOzh",
    "pycharm": {
     "is_executing": true
    }
   },
   "outputs": [],
   "source": [
    "torch.save({\n",
    "            'encoder': model.encoder.state_dict(),\n",
    "            'decoder1': model.decoder1.state_dict(),\n",
    "            'decoder2': model.decoder2.state_dict()\n",
    "            }, \"model.pth\")"
   ]
  },
  {
   "cell_type": "markdown",
   "metadata": {
    "id": "ymhjbmvR_DgJ"
   },
   "source": [
    "## Testing"
   ]
  },
  {
   "cell_type": "code",
   "execution_count": 35,
   "metadata": {
    "colab": {
     "base_uri": "https://localhost:8080/",
     "height": 34
    },
    "id": "b7rbm9wdXKeF",
    "outputId": "076309c7-22be-41f6-f916-5f11cb679672",
    "pycharm": {
     "is_executing": true
    }
   },
   "outputs": [
    {
     "data": {
      "text/plain": [
       "<All keys matched successfully>"
      ]
     },
     "execution_count": 35,
     "metadata": {},
     "output_type": "execute_result"
    }
   ],
   "source": [
    "checkpoint = torch.load(\"model.pth\")\n",
    "model.encoder.load_state_dict(checkpoint['encoder'])\n",
    "model.decoder1.load_state_dict(checkpoint['decoder1'])\n",
    "model.decoder2.load_state_dict(checkpoint['decoder2'])"
   ]
  },
  {
   "cell_type": "code",
   "execution_count": 19,
   "metadata": {},
   "outputs": [
    {
     "name": "stdout",
     "output_type": "stream",
     "text": [
      "最大阈值：0.02420607954263687，最小阈值：-0.14347247779369354\n"
     ]
    }
   ],
   "source": [
    "ts=testing(model,val_loader)\n",
    "tp=np.concatenate([torch.stack(ts[:-1]).flatten().detach().cpu().numpy(),\n",
    "                              ts[-1].flatten().detach().cpu().numpy()])\n",
    "maxT=np.max(tp)\n",
    "minT=np.min(tp)\n",
    "print(\"最大阈值：{}，最小阈值：{}\".format(maxT,minT))"
   ]
  },
  {
   "cell_type": "code",
   "execution_count": 45,
   "metadata": {
    "pycharm": {
     "is_executing": true
    }
   },
   "outputs": [
    {
     "name": "stdout",
     "output_type": "stream",
     "text": [
      "[-0.26242232 -0.2622805  -0.26213092 -0.26196876 -0.2618033  -0.26164228\n",
      " -0.26149696 -0.26138645 -0.26131022 -0.26124528 -0.2612198  -0.26122552\n",
      " -0.26124984 -0.26129082 -0.26134023 -0.2614137  -0.2614925  -0.261577\n",
      " -0.2616569  -0.26172376 -0.2617479  -0.26175702 -0.2617401  -0.2616877\n",
      " -0.26160762 -0.26151264 -0.26139355 -0.2612481  -0.26110452 -0.26094815\n",
      " -0.26078558 -0.26063022 -0.26051816 -0.2604455  -0.26038805 -0.2603603\n",
      " -0.2603622  -0.26037827 -0.26041707 -0.26046795 -0.26050165 -0.2605409\n",
      " -0.260607   -0.26067993 -0.26074284 -0.2607989  -0.2608647  -0.2608933\n",
      " -0.2608881  -0.2608769  -0.2608293  -0.26074475 -0.26062706 -0.26048535\n",
      " -0.26031637 -0.26013947 -0.25998056 -0.2598185  -0.25965098 -0.2595133\n",
      " -0.2594099  -0.25931597 -0.25926146 -0.2592382  -0.25926203 -0.25931555\n",
      " -0.25937334 -0.2594312  -0.25948274 -0.25954247 -0.25959742 -0.2596421\n",
      " -0.25967824 -0.2596884  -0.25964913 -0.2595882  -0.25949258 -0.2593709\n",
      " -0.25923884 -0.25910598 -0.25895107 -0.2587888  -0.2586405  -0.25851244\n",
      " -0.2583855  -0.25827017 -0.25818735 -0.25813383 -0.258102   -0.25810257\n",
      " -0.25812116 -0.25814876 -0.25818253 -0.2582273  -0.25825655 -0.25828338\n",
      " -0.25830224 -0.25831592 -0.2582925  -0.25821856 -0.2581213  -0.25798887\n",
      " -0.25783917 -0.2576707  -0.2574942  -0.25730678 -0.25713918 -0.25696763\n",
      " -0.25681534 -0.2566812  -0.25660622 -0.25657636 -0.25657865 -0.25660986\n",
      " -0.25665388 -0.256707   -0.25678197 -0.25685892 -0.25693077 -0.25699258\n",
      " -0.25704363 -0.25708875 -0.25711215 -0.25709468 -0.257032   -0.25694486\n",
      " -0.25683117 -0.2566805  -0.25650054 -0.25631166 -0.256115   -0.25593913\n",
      " -0.25576723 -0.25559422 -0.25543076 -0.25531554 -0.25524527 -0.25520495\n",
      " -0.2552005  -0.25523373 -0.2552997  -0.25538188 -0.25547385 -0.25555626\n",
      " -0.25564015 -0.25572544 -0.2558037  -0.25587562 -0.25593802 -0.2559818\n",
      " -0.2559864  -0.2559616  -0.2559006  -0.2558122  -0.25569385 -0.25556403\n",
      " -0.2554219  -0.25526083 -0.2551054  -0.2549543  -0.25481737 -0.25469393\n",
      " -0.25459617 -0.25452733 -0.2544872  -0.25446802 -0.2544767  -0.25450093\n",
      " -0.2545424  -0.25461334 -0.25468203 -0.25475106 -0.2547999  -0.25485024\n",
      " -0.25490555 -0.25495768 -0.2549856  -0.25498146 -0.25493896 -0.2548594\n",
      " -0.25475553 -0.25485045 -0.25493607 -0.25664738 -0.25858563 -0.2608454\n",
      " -0.26370472 -0.26677293 -0.2702589  -0.2741961  -0.27756503 -0.28110075\n",
      " -0.28316438 -0.285196   -0.28546947 -0.28359014 -0.28047094 -0.27594104\n",
      " -0.270804   -0.26456067 -0.26025072 -0.25791478 -0.25557652 -0.2526468\n",
      " -0.25098673 -0.2491112  -0.24906875 -0.2496371  -0.25131595 -0.2524975\n",
      " -0.25374573 -0.25603694 -0.25529763 -0.2522108  -0.24981293 -0.24798912\n",
      " -0.24642351 -0.2449933  -0.24347463 -0.24176402 -0.23990783]\n"
     ]
    }
   ],
   "source": [
    "#测试集测试，并展开成数组\n",
    "results=testing(model,train_loader)\n",
    "y_pred=np.concatenate([torch.stack(results[:-1]).flatten().detach().cpu().numpy(),results[-1].flatten().detach().cpu().numpy()])\n",
    "#y_pred=torch.stack(results[:]).flatten().detach().cpu().numpy()\n",
    "print(y_pred[:221])"
   ]
  },
  {
   "cell_type": "code",
   "execution_count": null,
   "metadata": {},
   "outputs": [],
   "source": []
  },
  {
   "cell_type": "code",
   "execution_count": 21,
   "metadata": {},
   "outputs": [
    {
     "name": "stdout",
     "output_type": "stream",
     "text": [
      "41000.0\n"
     ]
    }
   ],
   "source": [
    "for i in range(len(y_pred)):\n",
    "    y_pred[i] = 1 if (y_pred[i] > maxT or y_pred[i] < minT) else 0\n",
    "print(sum(y_pred))"
   ]
  },
  {
   "cell_type": "code",
   "execution_count": 39,
   "metadata": {
    "pycharm": {
     "is_executing": true
    }
   },
   "outputs": [
    {
     "name": "stdout",
     "output_type": "stream",
     "text": [
      "221.0\n",
      "221\n"
     ]
    }
   ],
   "source": [
    "#标签窗口化\n",
    "windows_labels=[]\n",
    "for i in range(len(labels)-window_size):\n",
    "    windows_labels.append(list(np.int_(labels[i:i+window_size])))\n",
    "#以窗口为单位设置异常\n",
    "y_test = [1.0 if (np.sum(window) > 0) else 0 for window in windows_labels ]\n",
    "print(sum(y_test))\n",
    "print(len(y_test))"
   ]
  },
  {
   "cell_type": "code",
   "execution_count": 40,
   "metadata": {},
   "outputs": [
    {
     "ename": "ValueError",
     "evalue": "Classification metrics can't handle a mix of binary and continuous targets",
     "output_type": "error",
     "traceback": [
      "\u001B[1;31m---------------------------------------------------------------------------\u001B[0m",
      "\u001B[1;31mValueError\u001B[0m                                Traceback (most recent call last)",
      "\u001B[1;32m~\\AppData\\Local\\Temp\\ipykernel_10544\\1888902214.py\u001B[0m in \u001B[0;36m<module>\u001B[1;34m\u001B[0m\n\u001B[0;32m      1\u001B[0m \u001B[1;32mfrom\u001B[0m \u001B[0msklearn\u001B[0m\u001B[1;33m.\u001B[0m\u001B[0mmetrics\u001B[0m \u001B[1;32mimport\u001B[0m \u001B[0mf1_score\u001B[0m\u001B[1;33m\u001B[0m\u001B[1;33m\u001B[0m\u001B[0m\n\u001B[1;32m----> 2\u001B[1;33m \u001B[0mf1\u001B[0m \u001B[1;33m=\u001B[0m \u001B[0mf1_score\u001B[0m\u001B[1;33m(\u001B[0m\u001B[0my_test\u001B[0m\u001B[1;33m,\u001B[0m \u001B[0my_pred\u001B[0m\u001B[1;33m)\u001B[0m\u001B[1;33m\u001B[0m\u001B[1;33m\u001B[0m\u001B[0m\n\u001B[0m\u001B[0;32m      3\u001B[0m \u001B[0mprint\u001B[0m\u001B[1;33m(\u001B[0m\u001B[1;34m\"F1 Score:\"\u001B[0m\u001B[1;33m,\u001B[0m \u001B[0mf1\u001B[0m\u001B[1;33m)\u001B[0m\u001B[1;33m\u001B[0m\u001B[1;33m\u001B[0m\u001B[0m\n",
      "\u001B[1;32mD:\\environment\\miniconda\\envs\\pytorch-gpu\\lib\\site-packages\\sklearn\\metrics\\_classification.py\u001B[0m in \u001B[0;36mf1_score\u001B[1;34m(y_true, y_pred, labels, pos_label, average, sample_weight, zero_division)\u001B[0m\n\u001B[0;32m   1129\u001B[0m         \u001B[0maverage\u001B[0m\u001B[1;33m=\u001B[0m\u001B[0maverage\u001B[0m\u001B[1;33m,\u001B[0m\u001B[1;33m\u001B[0m\u001B[1;33m\u001B[0m\u001B[0m\n\u001B[0;32m   1130\u001B[0m         \u001B[0msample_weight\u001B[0m\u001B[1;33m=\u001B[0m\u001B[0msample_weight\u001B[0m\u001B[1;33m,\u001B[0m\u001B[1;33m\u001B[0m\u001B[1;33m\u001B[0m\u001B[0m\n\u001B[1;32m-> 1131\u001B[1;33m         \u001B[0mzero_division\u001B[0m\u001B[1;33m=\u001B[0m\u001B[0mzero_division\u001B[0m\u001B[1;33m,\u001B[0m\u001B[1;33m\u001B[0m\u001B[1;33m\u001B[0m\u001B[0m\n\u001B[0m\u001B[0;32m   1132\u001B[0m     )\n\u001B[0;32m   1133\u001B[0m \u001B[1;33m\u001B[0m\u001B[0m\n",
      "\u001B[1;32mD:\\environment\\miniconda\\envs\\pytorch-gpu\\lib\\site-packages\\sklearn\\metrics\\_classification.py\u001B[0m in \u001B[0;36mfbeta_score\u001B[1;34m(y_true, y_pred, beta, labels, pos_label, average, sample_weight, zero_division)\u001B[0m\n\u001B[0;32m   1268\u001B[0m         \u001B[0mwarn_for\u001B[0m\u001B[1;33m=\u001B[0m\u001B[1;33m(\u001B[0m\u001B[1;34m\"f-score\"\u001B[0m\u001B[1;33m,\u001B[0m\u001B[1;33m)\u001B[0m\u001B[1;33m,\u001B[0m\u001B[1;33m\u001B[0m\u001B[1;33m\u001B[0m\u001B[0m\n\u001B[0;32m   1269\u001B[0m         \u001B[0msample_weight\u001B[0m\u001B[1;33m=\u001B[0m\u001B[0msample_weight\u001B[0m\u001B[1;33m,\u001B[0m\u001B[1;33m\u001B[0m\u001B[1;33m\u001B[0m\u001B[0m\n\u001B[1;32m-> 1270\u001B[1;33m         \u001B[0mzero_division\u001B[0m\u001B[1;33m=\u001B[0m\u001B[0mzero_division\u001B[0m\u001B[1;33m,\u001B[0m\u001B[1;33m\u001B[0m\u001B[1;33m\u001B[0m\u001B[0m\n\u001B[0m\u001B[0;32m   1271\u001B[0m     )\n\u001B[0;32m   1272\u001B[0m     \u001B[1;32mreturn\u001B[0m \u001B[0mf\u001B[0m\u001B[1;33m\u001B[0m\u001B[1;33m\u001B[0m\u001B[0m\n",
      "\u001B[1;32mD:\\environment\\miniconda\\envs\\pytorch-gpu\\lib\\site-packages\\sklearn\\metrics\\_classification.py\u001B[0m in \u001B[0;36mprecision_recall_fscore_support\u001B[1;34m(y_true, y_pred, beta, labels, pos_label, average, warn_for, sample_weight, zero_division)\u001B[0m\n\u001B[0;32m   1542\u001B[0m     \u001B[1;32mif\u001B[0m \u001B[0mbeta\u001B[0m \u001B[1;33m<\u001B[0m \u001B[1;36m0\u001B[0m\u001B[1;33m:\u001B[0m\u001B[1;33m\u001B[0m\u001B[1;33m\u001B[0m\u001B[0m\n\u001B[0;32m   1543\u001B[0m         \u001B[1;32mraise\u001B[0m \u001B[0mValueError\u001B[0m\u001B[1;33m(\u001B[0m\u001B[1;34m\"beta should be >=0 in the F-beta score\"\u001B[0m\u001B[1;33m)\u001B[0m\u001B[1;33m\u001B[0m\u001B[1;33m\u001B[0m\u001B[0m\n\u001B[1;32m-> 1544\u001B[1;33m     \u001B[0mlabels\u001B[0m \u001B[1;33m=\u001B[0m \u001B[0m_check_set_wise_labels\u001B[0m\u001B[1;33m(\u001B[0m\u001B[0my_true\u001B[0m\u001B[1;33m,\u001B[0m \u001B[0my_pred\u001B[0m\u001B[1;33m,\u001B[0m \u001B[0maverage\u001B[0m\u001B[1;33m,\u001B[0m \u001B[0mlabels\u001B[0m\u001B[1;33m,\u001B[0m \u001B[0mpos_label\u001B[0m\u001B[1;33m)\u001B[0m\u001B[1;33m\u001B[0m\u001B[1;33m\u001B[0m\u001B[0m\n\u001B[0m\u001B[0;32m   1545\u001B[0m \u001B[1;33m\u001B[0m\u001B[0m\n\u001B[0;32m   1546\u001B[0m     \u001B[1;31m# Calculate tp_sum, pred_sum, true_sum ###\u001B[0m\u001B[1;33m\u001B[0m\u001B[1;33m\u001B[0m\u001B[1;33m\u001B[0m\u001B[0m\n",
      "\u001B[1;32mD:\\environment\\miniconda\\envs\\pytorch-gpu\\lib\\site-packages\\sklearn\\metrics\\_classification.py\u001B[0m in \u001B[0;36m_check_set_wise_labels\u001B[1;34m(y_true, y_pred, average, labels, pos_label)\u001B[0m\n\u001B[0;32m   1346\u001B[0m         \u001B[1;32mraise\u001B[0m \u001B[0mValueError\u001B[0m\u001B[1;33m(\u001B[0m\u001B[1;34m\"average has to be one of \"\u001B[0m \u001B[1;33m+\u001B[0m \u001B[0mstr\u001B[0m\u001B[1;33m(\u001B[0m\u001B[0maverage_options\u001B[0m\u001B[1;33m)\u001B[0m\u001B[1;33m)\u001B[0m\u001B[1;33m\u001B[0m\u001B[1;33m\u001B[0m\u001B[0m\n\u001B[0;32m   1347\u001B[0m \u001B[1;33m\u001B[0m\u001B[0m\n\u001B[1;32m-> 1348\u001B[1;33m     \u001B[0my_type\u001B[0m\u001B[1;33m,\u001B[0m \u001B[0my_true\u001B[0m\u001B[1;33m,\u001B[0m \u001B[0my_pred\u001B[0m \u001B[1;33m=\u001B[0m \u001B[0m_check_targets\u001B[0m\u001B[1;33m(\u001B[0m\u001B[0my_true\u001B[0m\u001B[1;33m,\u001B[0m \u001B[0my_pred\u001B[0m\u001B[1;33m)\u001B[0m\u001B[1;33m\u001B[0m\u001B[1;33m\u001B[0m\u001B[0m\n\u001B[0m\u001B[0;32m   1349\u001B[0m     \u001B[1;31m# Convert to Python primitive type to avoid NumPy type / Python str\u001B[0m\u001B[1;33m\u001B[0m\u001B[1;33m\u001B[0m\u001B[1;33m\u001B[0m\u001B[0m\n\u001B[0;32m   1350\u001B[0m     \u001B[1;31m# comparison. See https://github.com/numpy/numpy/issues/6784\u001B[0m\u001B[1;33m\u001B[0m\u001B[1;33m\u001B[0m\u001B[1;33m\u001B[0m\u001B[0m\n",
      "\u001B[1;32mD:\\environment\\miniconda\\envs\\pytorch-gpu\\lib\\site-packages\\sklearn\\metrics\\_classification.py\u001B[0m in \u001B[0;36m_check_targets\u001B[1;34m(y_true, y_pred)\u001B[0m\n\u001B[0;32m     93\u001B[0m         raise ValueError(\n\u001B[0;32m     94\u001B[0m             \"Classification metrics can't handle a mix of {0} and {1} targets\".format(\n\u001B[1;32m---> 95\u001B[1;33m                 \u001B[0mtype_true\u001B[0m\u001B[1;33m,\u001B[0m \u001B[0mtype_pred\u001B[0m\u001B[1;33m\u001B[0m\u001B[1;33m\u001B[0m\u001B[0m\n\u001B[0m\u001B[0;32m     96\u001B[0m             )\n\u001B[0;32m     97\u001B[0m         )\n",
      "\u001B[1;31mValueError\u001B[0m: Classification metrics can't handle a mix of binary and continuous targets"
     ]
    }
   ],
   "source": [
    "from sklearn.metrics import f1_score\n",
    "f1 = f1_score(y_test, y_pred)\n",
    "print(\"F1 Score:\", f1)"
   ]
  },
  {
   "cell_type": "code",
   "execution_count": 41,
   "metadata": {
    "colab": {
     "base_uri": "https://localhost:8080/",
     "height": 279
    },
    "id": "bROUyLM93cG3",
    "outputId": "755359d9-d0fb-4deb-b313-d3c2a2465a26",
    "pycharm": {
     "is_executing": true,
     "name": "#%%\n"
    },
    "scrolled": false
   },
   "outputs": [
    {
     "name": "stderr",
     "output_type": "stream",
     "text": [
      "D:\\environment\\miniconda\\envs\\pytorch-gpu\\lib\\site-packages\\sklearn\\metrics\\_ranking.py:992: UndefinedMetricWarning: No negative samples in y_true, false positive value should be meaningless\n",
      "  UndefinedMetricWarning,\n"
     ]
    },
    {
     "ename": "ValueError",
     "evalue": "Only one class present in y_true. ROC AUC score is not defined in that case.",
     "output_type": "error",
     "traceback": [
      "\u001B[1;31m---------------------------------------------------------------------------\u001B[0m",
      "\u001B[1;31mValueError\u001B[0m                                Traceback (most recent call last)",
      "\u001B[1;32m~\\AppData\\Local\\Temp\\ipykernel_10544\\611759854.py\u001B[0m in \u001B[0;36m<module>\u001B[1;34m\u001B[0m\n\u001B[1;32m----> 1\u001B[1;33m \u001B[0mthreshold\u001B[0m\u001B[1;33m=\u001B[0m\u001B[0mROC\u001B[0m\u001B[1;33m(\u001B[0m\u001B[0my_test\u001B[0m\u001B[1;33m,\u001B[0m \u001B[0my_pred\u001B[0m\u001B[1;33m)\u001B[0m\u001B[1;33m\u001B[0m\u001B[1;33m\u001B[0m\u001B[0m\n\u001B[0m",
      "\u001B[1;32mE:\\ProjectConllector\\AGAE\\utils.py\u001B[0m in \u001B[0;36mROC\u001B[1;34m(y_test, y_pred)\u001B[0m\n\u001B[0;32m     44\u001B[0m \u001B[1;32mdef\u001B[0m \u001B[0mROC\u001B[0m\u001B[1;33m(\u001B[0m\u001B[0my_test\u001B[0m\u001B[1;33m,\u001B[0m\u001B[0my_pred\u001B[0m\u001B[1;33m)\u001B[0m\u001B[1;33m:\u001B[0m\u001B[1;33m\u001B[0m\u001B[1;33m\u001B[0m\u001B[0m\n\u001B[0;32m     45\u001B[0m     \u001B[0mfpr\u001B[0m\u001B[1;33m,\u001B[0m\u001B[0mtpr\u001B[0m\u001B[1;33m,\u001B[0m\u001B[0mtr\u001B[0m\u001B[1;33m=\u001B[0m\u001B[0mroc_curve\u001B[0m\u001B[1;33m(\u001B[0m\u001B[0my_test\u001B[0m\u001B[1;33m,\u001B[0m\u001B[0my_pred\u001B[0m\u001B[1;33m)\u001B[0m\u001B[1;33m\u001B[0m\u001B[1;33m\u001B[0m\u001B[0m\n\u001B[1;32m---> 46\u001B[1;33m     \u001B[0mauc\u001B[0m\u001B[1;33m=\u001B[0m\u001B[0mroc_auc_score\u001B[0m\u001B[1;33m(\u001B[0m\u001B[0my_test\u001B[0m\u001B[1;33m,\u001B[0m\u001B[0my_pred\u001B[0m\u001B[1;33m)\u001B[0m\u001B[1;33m\u001B[0m\u001B[1;33m\u001B[0m\u001B[0m\n\u001B[0m\u001B[0;32m     47\u001B[0m     \u001B[0midx\u001B[0m\u001B[1;33m=\u001B[0m\u001B[0mnp\u001B[0m\u001B[1;33m.\u001B[0m\u001B[0margwhere\u001B[0m\u001B[1;33m(\u001B[0m\u001B[0mnp\u001B[0m\u001B[1;33m.\u001B[0m\u001B[0mdiff\u001B[0m\u001B[1;33m(\u001B[0m\u001B[0mnp\u001B[0m\u001B[1;33m.\u001B[0m\u001B[0msign\u001B[0m\u001B[1;33m(\u001B[0m\u001B[0mtpr\u001B[0m\u001B[1;33m-\u001B[0m\u001B[1;33m(\u001B[0m\u001B[1;36m1\u001B[0m\u001B[1;33m-\u001B[0m\u001B[0mfpr\u001B[0m\u001B[1;33m)\u001B[0m\u001B[1;33m)\u001B[0m\u001B[1;33m)\u001B[0m\u001B[1;33m)\u001B[0m\u001B[1;33m.\u001B[0m\u001B[0mflatten\u001B[0m\u001B[1;33m(\u001B[0m\u001B[1;33m)\u001B[0m\u001B[1;33m\u001B[0m\u001B[1;33m\u001B[0m\u001B[0m\n\u001B[0;32m     48\u001B[0m \u001B[1;33m\u001B[0m\u001B[0m\n",
      "\u001B[1;32mD:\\environment\\miniconda\\envs\\pytorch-gpu\\lib\\site-packages\\sklearn\\metrics\\_ranking.py\u001B[0m in \u001B[0;36mroc_auc_score\u001B[1;34m(y_true, y_score, average, sample_weight, max_fpr, multi_class, labels)\u001B[0m\n\u001B[0;32m    570\u001B[0m             \u001B[0my_score\u001B[0m\u001B[1;33m,\u001B[0m\u001B[1;33m\u001B[0m\u001B[1;33m\u001B[0m\u001B[0m\n\u001B[0;32m    571\u001B[0m             \u001B[0maverage\u001B[0m\u001B[1;33m,\u001B[0m\u001B[1;33m\u001B[0m\u001B[1;33m\u001B[0m\u001B[0m\n\u001B[1;32m--> 572\u001B[1;33m             \u001B[0msample_weight\u001B[0m\u001B[1;33m=\u001B[0m\u001B[0msample_weight\u001B[0m\u001B[1;33m,\u001B[0m\u001B[1;33m\u001B[0m\u001B[1;33m\u001B[0m\u001B[0m\n\u001B[0m\u001B[0;32m    573\u001B[0m         )\n\u001B[0;32m    574\u001B[0m     \u001B[1;32melse\u001B[0m\u001B[1;33m:\u001B[0m  \u001B[1;31m# multilabel-indicator\u001B[0m\u001B[1;33m\u001B[0m\u001B[1;33m\u001B[0m\u001B[0m\n",
      "\u001B[1;32mD:\\environment\\miniconda\\envs\\pytorch-gpu\\lib\\site-packages\\sklearn\\metrics\\_base.py\u001B[0m in \u001B[0;36m_average_binary_score\u001B[1;34m(binary_metric, y_true, y_score, average, sample_weight)\u001B[0m\n\u001B[0;32m     73\u001B[0m \u001B[1;33m\u001B[0m\u001B[0m\n\u001B[0;32m     74\u001B[0m     \u001B[1;32mif\u001B[0m \u001B[0my_type\u001B[0m \u001B[1;33m==\u001B[0m \u001B[1;34m\"binary\"\u001B[0m\u001B[1;33m:\u001B[0m\u001B[1;33m\u001B[0m\u001B[1;33m\u001B[0m\u001B[0m\n\u001B[1;32m---> 75\u001B[1;33m         \u001B[1;32mreturn\u001B[0m \u001B[0mbinary_metric\u001B[0m\u001B[1;33m(\u001B[0m\u001B[0my_true\u001B[0m\u001B[1;33m,\u001B[0m \u001B[0my_score\u001B[0m\u001B[1;33m,\u001B[0m \u001B[0msample_weight\u001B[0m\u001B[1;33m=\u001B[0m\u001B[0msample_weight\u001B[0m\u001B[1;33m)\u001B[0m\u001B[1;33m\u001B[0m\u001B[1;33m\u001B[0m\u001B[0m\n\u001B[0m\u001B[0;32m     76\u001B[0m \u001B[1;33m\u001B[0m\u001B[0m\n\u001B[0;32m     77\u001B[0m     \u001B[0mcheck_consistent_length\u001B[0m\u001B[1;33m(\u001B[0m\u001B[0my_true\u001B[0m\u001B[1;33m,\u001B[0m \u001B[0my_score\u001B[0m\u001B[1;33m,\u001B[0m \u001B[0msample_weight\u001B[0m\u001B[1;33m)\u001B[0m\u001B[1;33m\u001B[0m\u001B[1;33m\u001B[0m\u001B[0m\n",
      "\u001B[1;32mD:\\environment\\miniconda\\envs\\pytorch-gpu\\lib\\site-packages\\sklearn\\metrics\\_ranking.py\u001B[0m in \u001B[0;36m_binary_roc_auc_score\u001B[1;34m(y_true, y_score, sample_weight, max_fpr)\u001B[0m\n\u001B[0;32m    336\u001B[0m     \u001B[1;32mif\u001B[0m \u001B[0mlen\u001B[0m\u001B[1;33m(\u001B[0m\u001B[0mnp\u001B[0m\u001B[1;33m.\u001B[0m\u001B[0munique\u001B[0m\u001B[1;33m(\u001B[0m\u001B[0my_true\u001B[0m\u001B[1;33m)\u001B[0m\u001B[1;33m)\u001B[0m \u001B[1;33m!=\u001B[0m \u001B[1;36m2\u001B[0m\u001B[1;33m:\u001B[0m\u001B[1;33m\u001B[0m\u001B[1;33m\u001B[0m\u001B[0m\n\u001B[0;32m    337\u001B[0m         raise ValueError(\n\u001B[1;32m--> 338\u001B[1;33m             \u001B[1;34m\"Only one class present in y_true. ROC AUC score \"\u001B[0m\u001B[1;33m\u001B[0m\u001B[1;33m\u001B[0m\u001B[0m\n\u001B[0m\u001B[0;32m    339\u001B[0m             \u001B[1;34m\"is not defined in that case.\"\u001B[0m\u001B[1;33m\u001B[0m\u001B[1;33m\u001B[0m\u001B[0m\n\u001B[0;32m    340\u001B[0m         )\n",
      "\u001B[1;31mValueError\u001B[0m: Only one class present in y_true. ROC AUC score is not defined in that case."
     ]
    }
   ],
   "source": [
    "threshold=ROC(y_test, y_pred)"
   ]
  },
  {
   "cell_type": "code",
   "execution_count": null,
   "metadata": {
    "pycharm": {
     "is_executing": true
    }
   },
   "outputs": [],
   "source": []
  },
  {
   "cell_type": "code",
   "execution_count": null,
   "metadata": {},
   "outputs": [],
   "source": []
  },
  {
   "cell_type": "code",
   "execution_count": null,
   "metadata": {},
   "outputs": [],
   "source": []
  }
 ],
 "metadata": {
  "accelerator": "GPU",
  "colab": {
   "name": "USAD_test.ipynb",
   "provenance": [],
   "toc_visible": true
  },
  "kernelspec": {
   "display_name": "Python 3 (ipykernel)",
   "language": "python",
   "name": "python3"
  },
  "language_info": {
   "codemirror_mode": {
    "name": "ipython",
    "version": 3
   },
   "file_extension": ".py",
   "mimetype": "text/x-python",
   "name": "python",
   "nbconvert_exporter": "python",
   "pygments_lexer": "ipython3",
   "version": "3.7.1"
  }
 },
 "nbformat": 4,
 "nbformat_minor": 4
}