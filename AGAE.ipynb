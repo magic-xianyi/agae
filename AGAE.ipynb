{
 "cells": [
  {
   "cell_type": "code",
   "execution_count": 2,
   "metadata": {
    "id": "6u1DGKsAlLF-"
   },
   "outputs": [],
   "source": [
    "import numpy as np\n",
    "import pandas as pd\n",
    "import matplotlib.pyplot as plt\n",
    "import seaborn as sns\n",
    "import torch\n",
    "import torch.nn as nn\n",
    "from agae import *\n",
    "from utils import *"
   ]
  },
  {
   "cell_type": "code",
   "execution_count": 3,
   "metadata": {
    "colab": {
     "base_uri": "https://localhost:8080/",
     "height": 34
    },
    "id": "4AzWlDBI_djV",
    "outputId": "7a8d0c19-2389-461b-c0be-3427a25dda91"
   },
   "outputs": [
    {
     "name": "stdout",
     "output_type": "stream",
     "text": [
      "1.13.1+cu117\n",
      "cuda\n"
     ]
    }
   ],
   "source": [
    "\n",
    "device = get_default_device()\n",
    "print(torch.__version__)  #注意是双下划线\n",
    "print(device)"
   ]
  },
  {
   "cell_type": "markdown",
   "metadata": {
    "id": "kfSj4FYL9W8Y"
   },
   "source": [
    "### 处理正常数据"
   ]
  },
  {
   "cell_type": "code",
   "execution_count": 4,
   "metadata": {
    "colab": {
     "base_uri": "https://localhost:8080/",
     "height": 87
    },
    "id": "XeDLxV_r1G9n",
    "outputId": "576538dd-64f2-46fa-8e6f-6c2ffdebad15"
   },
   "outputs": [
    {
     "name": "stdout",
     "output_type": "stream",
     "text": [
      "                Timestamp  FIT101    LIT101  MV101  P101  P102    AIT201  \\\n",
      "0   22/12/2015 4:30:00 PM     0.0  124.3135      1     1     1  251.9226   \n",
      "1   22/12/2015 4:30:01 PM     0.0  124.3920      1     1     1  251.9226   \n",
      "2   22/12/2015 4:30:02 PM     0.0  124.4705      1     1     1  251.9226   \n",
      "3   22/12/2015 4:30:03 PM     0.0  124.6668      1     1     1  251.9226   \n",
      "4   22/12/2015 4:30:04 PM     0.0  124.5098      1     1     1  251.9226   \n",
      "\n",
      "     AIT202    AIT203  FIT201  ...  P501  P502    PIT501  PIT502  PIT503  \\\n",
      "0  8.313446  312.7916     0.0  ...     1     1  9.100231     0.0  3.3485   \n",
      "1  8.313446  312.7916     0.0  ...     1     1  9.100231     0.0  3.3485   \n",
      "2  8.313446  312.7916     0.0  ...     1     1  9.100231     0.0  3.3485   \n",
      "3  8.313446  312.7916     0.0  ...     1     1  9.100231     0.0  3.3485   \n",
      "4  8.313446  312.7916     0.0  ...     1     1  9.100231     0.0  3.3485   \n",
      "\n",
      "     FIT601  P601  P602  P603  Normal/Attack  \n",
      "0  0.000256     1     1     1         Normal  \n",
      "1  0.000256     1     1     1         Normal  \n",
      "2  0.000256     1     1     1         Normal  \n",
      "3  0.000256     1     1     1         Normal  \n",
      "4  0.000256     1     1     1         Normal  \n",
      "\n",
      "[5 rows x 53 columns]\n",
      "Index(['Timestamp', 'FIT101', 'LIT101', 'MV101', 'P101', 'P102', 'AIT201',\n",
      "       'AIT202', 'AIT203', 'FIT201', 'MV201', 'P201', 'P202', 'P203', 'P204',\n",
      "       'P205', 'P206', 'DPIT301', 'FIT301', 'LIT301', 'MV301', 'MV302',\n",
      "       'MV303', 'MV304', 'P301', 'P302', 'AIT401', 'AIT402', 'FIT401',\n",
      "       'LIT401', 'P401', 'P402', 'P403', 'P404', 'UV401', 'AIT501', 'AIT502',\n",
      "       'AIT503', 'AIT504', 'FIT501', 'FIT502', 'FIT503', 'FIT504', 'P501',\n",
      "       'P502', 'PIT501', 'PIT502', 'PIT503', 'FIT601', 'P601', 'P602', 'P603',\n",
      "       'Normal/Attack'],\n",
      "      dtype='object')\n"
     ]
    }
   ],
   "source": [
    "#Read data\n",
    "normal = pd.read_csv(\"input/SWaT_Dataset_Normal.csv\", header=0)#, nrows=1000)\n",
    "print(normal.head())\n",
    "print(normal.columns)"
   ]
  },
  {
   "cell_type": "code",
   "execution_count": 5,
   "metadata": {},
   "outputs": [
    {
     "name": "stdout",
     "output_type": "stream",
     "text": [
      "   FIT101    LIT101  MV101  P101  P102    AIT201    AIT202    AIT203  FIT201  \\\n",
      "0     0.0  124.3135      1     1     1  251.9226  8.313446  312.7916     0.0   \n",
      "1     0.0  124.3920      1     1     1  251.9226  8.313446  312.7916     0.0   \n",
      "2     0.0  124.4705      1     1     1  251.9226  8.313446  312.7916     0.0   \n",
      "3     0.0  124.6668      1     1     1  251.9226  8.313446  312.7916     0.0   \n",
      "4     0.0  124.5098      1     1     1  251.9226  8.313446  312.7916     0.0   \n",
      "\n",
      "   MV201  ...  FIT504  P501  P502    PIT501  PIT502  PIT503    FIT601  P601  \\\n",
      "0      1  ...     0.0     1     1  9.100231     0.0  3.3485  0.000256     1   \n",
      "1      1  ...     0.0     1     1  9.100231     0.0  3.3485  0.000256     1   \n",
      "2      1  ...     0.0     1     1  9.100231     0.0  3.3485  0.000256     1   \n",
      "3      1  ...     0.0     1     1  9.100231     0.0  3.3485  0.000256     1   \n",
      "4      1  ...     0.0     1     1  9.100231     0.0  3.3485  0.000256     1   \n",
      "\n",
      "   P602  P603  \n",
      "0     1     1  \n",
      "1     1     1  \n",
      "2     1     1  \n",
      "3     1     1  \n",
      "4     1     1  \n",
      "\n",
      "[5 rows x 51 columns]\n"
     ]
    }
   ],
   "source": [
    "normal = normal.drop([\"Timestamp\" , \"Normal/Attack\" ] , axis = 1)\n",
    "normal.shape\n",
    "print(normal.head())"
   ]
  },
  {
   "cell_type": "code",
   "execution_count": 6,
   "metadata": {
    "id": "fFuLm1GH1G2n",
    "pycharm": {
     "name": "#%%\n"
    }
   },
   "outputs": [],
   "source": [
    "# Transform all columns into float64\n",
    "normal = normal.astype(float)"
   ]
  },
  {
   "cell_type": "code",
   "execution_count": 7,
   "metadata": {
    "id": "Mfxj4Uxn9kv4",
    "pycharm": {
     "name": "#%%\n"
    }
   },
   "outputs": [],
   "source": [
    "from sklearn import preprocessing\n",
    "min_max_scaler = preprocessing.MinMaxScaler()\n",
    "\n",
    "x = normal.values\n",
    "x_scaled = min_max_scaler.fit_transform(x)\n",
    "normal = pd.DataFrame(x_scaled)"
   ]
  },
  {
   "cell_type": "code",
   "execution_count": 8,
   "metadata": {
    "colab": {
     "base_uri": "https://localhost:8080/",
     "height": 126
    },
    "id": "mQ6_U4jn9nlw",
    "outputId": "f1cc1bd6-f1cc-4764-b1cc-2fd989ac4918",
    "pycharm": {
     "name": "#%%\n"
    }
   },
   "outputs": [
    {
     "data": {
      "text/html": [
       "<div>\n",
       "<style scoped>\n",
       "    .dataframe tbody tr th:only-of-type {\n",
       "        vertical-align: middle;\n",
       "    }\n",
       "\n",
       "    .dataframe tbody tr th {\n",
       "        vertical-align: top;\n",
       "    }\n",
       "\n",
       "    .dataframe thead th {\n",
       "        text-align: right;\n",
       "    }\n",
       "</style>\n",
       "<table border=\"1\" class=\"dataframe\">\n",
       "  <thead>\n",
       "    <tr style=\"text-align: right;\">\n",
       "      <th></th>\n",
       "      <th>0</th>\n",
       "      <th>1</th>\n",
       "      <th>2</th>\n",
       "      <th>3</th>\n",
       "      <th>4</th>\n",
       "      <th>5</th>\n",
       "      <th>6</th>\n",
       "      <th>7</th>\n",
       "      <th>8</th>\n",
       "      <th>9</th>\n",
       "      <th>...</th>\n",
       "      <th>41</th>\n",
       "      <th>42</th>\n",
       "      <th>43</th>\n",
       "      <th>44</th>\n",
       "      <th>45</th>\n",
       "      <th>46</th>\n",
       "      <th>47</th>\n",
       "      <th>48</th>\n",
       "      <th>49</th>\n",
       "      <th>50</th>\n",
       "    </tr>\n",
       "  </thead>\n",
       "  <tbody>\n",
       "    <tr>\n",
       "      <th>0</th>\n",
       "      <td>0.0</td>\n",
       "      <td>0.005294</td>\n",
       "      <td>0.5</td>\n",
       "      <td>0.0</td>\n",
       "      <td>0.0</td>\n",
       "      <td>0.012291</td>\n",
       "      <td>0.075099</td>\n",
       "      <td>0.002009</td>\n",
       "      <td>0.0</td>\n",
       "      <td>0.5</td>\n",
       "      <td>...</td>\n",
       "      <td>0.0</td>\n",
       "      <td>0.0</td>\n",
       "      <td>0.0</td>\n",
       "      <td>0.000814</td>\n",
       "      <td>0.0</td>\n",
       "      <td>0.001217</td>\n",
       "      <td>0.000147</td>\n",
       "      <td>0.0</td>\n",
       "      <td>0.0</td>\n",
       "      <td>0.0</td>\n",
       "    </tr>\n",
       "    <tr>\n",
       "      <th>1</th>\n",
       "      <td>0.0</td>\n",
       "      <td>0.005407</td>\n",
       "      <td>0.5</td>\n",
       "      <td>0.0</td>\n",
       "      <td>0.0</td>\n",
       "      <td>0.012291</td>\n",
       "      <td>0.075099</td>\n",
       "      <td>0.002009</td>\n",
       "      <td>0.0</td>\n",
       "      <td>0.5</td>\n",
       "      <td>...</td>\n",
       "      <td>0.0</td>\n",
       "      <td>0.0</td>\n",
       "      <td>0.0</td>\n",
       "      <td>0.000814</td>\n",
       "      <td>0.0</td>\n",
       "      <td>0.001217</td>\n",
       "      <td>0.000147</td>\n",
       "      <td>0.0</td>\n",
       "      <td>0.0</td>\n",
       "      <td>0.0</td>\n",
       "    </tr>\n",
       "  </tbody>\n",
       "</table>\n",
       "<p>2 rows × 51 columns</p>\n",
       "</div>"
      ],
      "text/plain": [
       "    0         1    2    3    4         5         6         7    8    9   ...  \\\n",
       "0  0.0  0.005294  0.5  0.0  0.0  0.012291  0.075099  0.002009  0.0  0.5  ...   \n",
       "1  0.0  0.005407  0.5  0.0  0.0  0.012291  0.075099  0.002009  0.0  0.5  ...   \n",
       "\n",
       "    41   42   43        44   45        46        47   48   49   50  \n",
       "0  0.0  0.0  0.0  0.000814  0.0  0.001217  0.000147  0.0  0.0  0.0  \n",
       "1  0.0  0.0  0.0  0.000814  0.0  0.001217  0.000147  0.0  0.0  0.0  \n",
       "\n",
       "[2 rows x 51 columns]"
      ]
     },
     "execution_count": 8,
     "metadata": {},
     "output_type": "execute_result"
    }
   ],
   "source": [
    "normal.head(2)"
   ]
  },
  {
   "cell_type": "markdown",
   "metadata": {
    "id": "_i71RFAi9spa",
    "pycharm": {
     "name": "#%% md\n"
    }
   },
   "source": [
    "### 处理攻击数据"
   ]
  },
  {
   "cell_type": "code",
   "execution_count": 9,
   "metadata": {
    "colab": {
     "base_uri": "https://localhost:8080/",
     "height": 87
    },
    "id": "aN_TFp5x9uTE",
    "outputId": "38d7993d-c9a3-461d-c430-ebde697afbc6",
    "pycharm": {
     "is_executing": true,
     "name": "#%%\n"
    }
   },
   "outputs": [
    {
     "name": "stdout",
     "output_type": "stream",
     "text": [
      "RangeIndex(start=0, stop=51, step=1)\n",
      "测试数据集形状：(449919, 51)，标签长度：449919\n"
     ]
    }
   ],
   "source": [
    "#Read data\n",
    "attack = pd.read_csv(\"input/SWaT_Dataset_Attack.csv\",header=0)#, nrows=1000)\n",
    "print(normal.columns)\n",
    "labels = [ float(label!= 'Normal' ) for label  in attack[\"Normal/Attack\"].values] #等于normal就是0，异常就是1\n",
    "attack = attack.drop([\"Timestamp\" , \"Normal/Attack\" ] , axis = 1)\n",
    "print(\"测试数据集形状：{}，标签长度：{}\".format(attack.shape, len(labels)))"
   ]
  },
  {
   "cell_type": "code",
   "execution_count": 10,
   "metadata": {
    "id": "jZrha9cO-BGK",
    "pycharm": {
     "is_executing": true
    }
   },
   "outputs": [],
   "source": [
    "# Transform all columns into float64\n",
    "attack = attack.astype(float)\n",
    "x = attack.values\n",
    "x_scaled = min_max_scaler.fit_transform(x)\n",
    "attack = pd.DataFrame(x_scaled)"
   ]
  },
  {
   "cell_type": "code",
   "execution_count": 11,
   "metadata": {
    "id": "vyplttZa-BRN",
    "pycharm": {
     "is_executing": true
    }
   },
   "outputs": [
    {
     "data": {
      "text/html": [
       "<div>\n",
       "<style scoped>\n",
       "    .dataframe tbody tr th:only-of-type {\n",
       "        vertical-align: middle;\n",
       "    }\n",
       "\n",
       "    .dataframe tbody tr th {\n",
       "        vertical-align: top;\n",
       "    }\n",
       "\n",
       "    .dataframe thead th {\n",
       "        text-align: right;\n",
       "    }\n",
       "</style>\n",
       "<table border=\"1\" class=\"dataframe\">\n",
       "  <thead>\n",
       "    <tr style=\"text-align: right;\">\n",
       "      <th></th>\n",
       "      <th>0</th>\n",
       "      <th>1</th>\n",
       "      <th>2</th>\n",
       "      <th>3</th>\n",
       "      <th>4</th>\n",
       "      <th>5</th>\n",
       "      <th>6</th>\n",
       "      <th>7</th>\n",
       "      <th>8</th>\n",
       "      <th>9</th>\n",
       "      <th>...</th>\n",
       "      <th>41</th>\n",
       "      <th>42</th>\n",
       "      <th>43</th>\n",
       "      <th>44</th>\n",
       "      <th>45</th>\n",
       "      <th>46</th>\n",
       "      <th>47</th>\n",
       "      <th>48</th>\n",
       "      <th>49</th>\n",
       "      <th>50</th>\n",
       "    </tr>\n",
       "  </thead>\n",
       "  <tbody>\n",
       "    <tr>\n",
       "      <th>0</th>\n",
       "      <td>0.879322</td>\n",
       "      <td>0.452962</td>\n",
       "      <td>1.0</td>\n",
       "      <td>1.0</td>\n",
       "      <td>0.0</td>\n",
       "      <td>0.942783</td>\n",
       "      <td>0.876785</td>\n",
       "      <td>0.436773</td>\n",
       "      <td>0.865044</td>\n",
       "      <td>1.0</td>\n",
       "      <td>...</td>\n",
       "      <td>0.987464</td>\n",
       "      <td>1.0</td>\n",
       "      <td>0.0</td>\n",
       "      <td>0.985802</td>\n",
       "      <td>0.837398</td>\n",
       "      <td>0.987359</td>\n",
       "      <td>0.000071</td>\n",
       "      <td>0.0</td>\n",
       "      <td>0.0</td>\n",
       "      <td>0.0</td>\n",
       "    </tr>\n",
       "    <tr>\n",
       "      <th>1</th>\n",
       "      <td>0.886285</td>\n",
       "      <td>0.453015</td>\n",
       "      <td>1.0</td>\n",
       "      <td>1.0</td>\n",
       "      <td>0.0</td>\n",
       "      <td>0.942783</td>\n",
       "      <td>0.876785</td>\n",
       "      <td>0.436773</td>\n",
       "      <td>0.865044</td>\n",
       "      <td>1.0</td>\n",
       "      <td>...</td>\n",
       "      <td>0.987464</td>\n",
       "      <td>1.0</td>\n",
       "      <td>0.0</td>\n",
       "      <td>0.985802</td>\n",
       "      <td>0.837398</td>\n",
       "      <td>0.987783</td>\n",
       "      <td>0.000071</td>\n",
       "      <td>0.0</td>\n",
       "      <td>0.0</td>\n",
       "      <td>0.0</td>\n",
       "    </tr>\n",
       "  </tbody>\n",
       "</table>\n",
       "<p>2 rows × 51 columns</p>\n",
       "</div>"
      ],
      "text/plain": [
       "         0         1    2    3    4         5         6         7         8   \\\n",
       "0  0.879322  0.452962  1.0  1.0  0.0  0.942783  0.876785  0.436773  0.865044   \n",
       "1  0.886285  0.453015  1.0  1.0  0.0  0.942783  0.876785  0.436773  0.865044   \n",
       "\n",
       "    9   ...        41   42   43        44        45        46        47   48  \\\n",
       "0  1.0  ...  0.987464  1.0  0.0  0.985802  0.837398  0.987359  0.000071  0.0   \n",
       "1  1.0  ...  0.987464  1.0  0.0  0.985802  0.837398  0.987783  0.000071  0.0   \n",
       "\n",
       "    49   50  \n",
       "0  0.0  0.0  \n",
       "1  0.0  0.0  \n",
       "\n",
       "[2 rows x 51 columns]"
      ]
     },
     "execution_count": 11,
     "metadata": {},
     "output_type": "execute_result"
    }
   ],
   "source": [
    "attack.head(2)"
   ]
  },
  {
   "cell_type": "code",
   "execution_count": 12,
   "metadata": {
    "colab": {
     "base_uri": "https://localhost:8080/",
     "height": 34
    },
    "id": "dzGJMp6Y-BN5",
    "outputId": "2949d278-1313-442c-f06b-275a8c6c6578",
    "pycharm": {
     "is_executing": true
    }
   },
   "outputs": [
    {
     "name": "stdout",
     "output_type": "stream",
     "text": [
      "(495000, 51)\n"
     ]
    },
    {
     "data": {
      "text/plain": [
       "(494988, 12, 51)"
      ]
     },
     "execution_count": 12,
     "metadata": {},
     "output_type": "execute_result"
    }
   ],
   "source": [
    "print(normal.shape)\n",
    "window_size = 12\n",
    "windows_normal=normal.values[np.arange(window_size)[None, :] + np.arange(normal.shape[0]-window_size)[:, None]] #窗口化处理\n",
    "windows_normal.shape"
   ]
  },
  {
   "cell_type": "code",
   "execution_count": 25,
   "metadata": {
    "colab": {
     "base_uri": "https://localhost:8080/",
     "height": 34
    },
    "id": "17LdB3c8-pRH",
    "outputId": "721059d4-5937-4dd3-d73c-e5d255fc273c",
    "pycharm": {
     "is_executing": true
    }
   },
   "outputs": [
    {
     "data": {
      "text/plain": [
       "(449907, 12, 51)"
      ]
     },
     "execution_count": 25,
     "metadata": {},
     "output_type": "execute_result"
    }
   ],
   "source": [
    "windows_attack=attack.values[np.arange(window_size)[None, :] + np.arange(attack.shape[0]-window_size)[:, None]]\n",
    "windows_attack.shape"
   ]
  },
  {
   "cell_type": "code",
   "execution_count": 26,
   "metadata": {
    "id": "yi9S0SGnDKNc",
    "pycharm": {
     "is_executing": true
    }
   },
   "outputs": [],
   "source": [
    "## Training"
   ]
  },
  {
   "cell_type": "code",
   "execution_count": 53,
   "metadata": {},
   "outputs": [],
   "source": [
    "import torch.utils.data as data_utils\n",
    "\n",
    "BATCH_SIZE =  7000\n",
    "N_EPOCHS = 50\n",
    "hidden_size = 200"
   ]
  },
  {
   "cell_type": "code",
   "execution_count": 54,
   "metadata": {
    "pycharm": {
     "is_executing": true
    }
   },
   "outputs": [
    {
     "name": "stdout",
     "output_type": "stream",
     "text": [
      "输入层维度：612， 潜空间维度：200，训练数据集：(395990, 12, 51)，验证数据集：(98998, 12, 51)\n"
     ]
    }
   ],
   "source": [
    "w_size=windows_normal.shape[1]*windows_normal.shape[2]\n",
    "z_size=hidden_size\n",
    "windows_normal_train = windows_normal[:int(np.floor(.8 *  windows_normal.shape[0]))]\n",
    "windows_normal_val = windows_normal[int(np.floor(.8 *  windows_normal.shape[0])):int(np.floor(windows_normal.shape[0]))]\n",
    "print(\"输入层维度：{}， 潜空间维度：{}，训练数据集：{}，验证数据集：{}\".format(w_size, z_size, windows_normal_train.shape, windows_normal_val.shape))"
   ]
  },
  {
   "cell_type": "code",
   "execution_count": 55,
   "metadata": {
    "pycharm": {
     "is_executing": true
    }
   },
   "outputs": [],
   "source": [
    "train_loader = torch.utils.data.DataLoader(data_utils.TensorDataset(\n",
    "    torch.from_numpy(windows_normal_train).float().view(([windows_normal_train.shape[0],w_size]))\n",
    ") , batch_size=BATCH_SIZE, shuffle=False, num_workers=0)\n",
    "\n",
    "val_loader = torch.utils.data.DataLoader(data_utils.TensorDataset(\n",
    "    torch.from_numpy(windows_normal_val).float().view(([windows_normal_val.shape[0],w_size]))\n",
    ") , batch_size=BATCH_SIZE, shuffle=False, num_workers=0)\n",
    "test_loader = torch.utils.data.DataLoader(data_utils.TensorDataset(\n",
    "    torch.from_numpy(windows_attack).float().view(([windows_attack.shape[0],w_size]))\n",
    ") , batch_size=BATCH_SIZE, shuffle=False, num_workers=0)\n",
    "model = AGAEModel(w_size, z_size)\n",
    "model = to_device(model,device)"
   ]
  },
  {
   "cell_type": "code",
   "execution_count": 56,
   "metadata": {
    "colab": {
     "base_uri": "https://localhost:8080/",
     "height": 1000
    },
    "id": "So9yjDPEDObC",
    "outputId": "629bcd13-37b1-4907-ef0d-46d9e3ad5398",
    "pycharm": {
     "is_executing": true
    }
   },
   "outputs": [
    {
     "name": "stdout",
     "output_type": "stream",
     "text": [
      "Epoch [0], 训练耗时：4.12s, val_loss1: 0.0286, val_loss2: 0.0278\n",
      "Epoch [1], 训练耗时：3.80s, val_loss1: 0.0296, val_loss2: -0.0031\n",
      "Epoch [2], 训练耗时：4.20s, val_loss1: 0.0301, val_loss2: -0.0123\n",
      "Epoch [3], 训练耗时：3.73s, val_loss1: 0.0300, val_loss2: -0.0169\n",
      "Epoch [4], 训练耗时：4.36s, val_loss1: 0.0300, val_loss2: -0.0195\n",
      "Epoch [5], 训练耗时：4.14s, val_loss1: 0.0301, val_loss2: -0.0213\n",
      "Epoch [6], 训练耗时：4.48s, val_loss1: 0.0306, val_loss2: -0.0229\n",
      "Epoch [7], 训练耗时：4.24s, val_loss1: 0.0308, val_loss2: -0.0242\n",
      "Epoch [8], 训练耗时：4.25s, val_loss1: 0.0307, val_loss2: -0.0248\n",
      "Epoch [9], 训练耗时：3.90s, val_loss1: 0.0313, val_loss2: -0.0259\n",
      "Epoch [10], 训练耗时：3.81s, val_loss1: 0.0304, val_loss2: -0.0256\n",
      "Epoch [11], 训练耗时：4.05s, val_loss1: 0.0307, val_loss2: -0.0262\n",
      "Epoch [12], 训练耗时：4.11s, val_loss1: 0.0318, val_loss2: -0.0275\n",
      "Epoch [13], 训练耗时：4.19s, val_loss1: 0.0309, val_loss2: -0.0270\n",
      "Epoch [14], 训练耗时：3.95s, val_loss1: 0.0322, val_loss2: -0.0285\n",
      "Epoch [15], 训练耗时：3.82s, val_loss1: 0.0305, val_loss2: -0.0271\n",
      "Epoch [16], 训练耗时：3.71s, val_loss1: 0.0326, val_loss2: -0.0293\n",
      "Epoch [17], 训练耗时：3.80s, val_loss1: 0.0304, val_loss2: -0.0274\n",
      "Epoch [18], 训练耗时：4.06s, val_loss1: 0.0319, val_loss2: -0.0289\n",
      "Epoch [19], 训练耗时：4.16s, val_loss1: 0.0310, val_loss2: -0.0282\n",
      "Epoch [20], 训练耗时：4.37s, val_loss1: 0.0322, val_loss2: -0.0295\n",
      "Epoch [21], 训练耗时：4.42s, val_loss1: 0.0307, val_loss2: -0.0282\n",
      "Epoch [22], 训练耗时：4.32s, val_loss1: 0.0317, val_loss2: -0.0293\n",
      "Epoch [23], 训练耗时：4.29s, val_loss1: 0.0317, val_loss2: -0.0294\n",
      "Epoch [24], 训练耗时：4.06s, val_loss1: 0.0321, val_loss2: -0.0299\n",
      "Epoch [25], 训练耗时：3.98s, val_loss1: 0.0313, val_loss2: -0.0291\n",
      "Epoch [26], 训练耗时：3.96s, val_loss1: 0.0320, val_loss2: -0.0299\n",
      "Epoch [27], 训练耗时：3.97s, val_loss1: 0.0311, val_loss2: -0.0291\n",
      "Epoch [28], 训练耗时：4.03s, val_loss1: 0.0319, val_loss2: -0.0299\n",
      "Epoch [29], 训练耗时：3.90s, val_loss1: 0.0314, val_loss2: -0.0296\n",
      "Epoch [30], 训练耗时：4.48s, val_loss1: 0.0321, val_loss2: -0.0303\n",
      "Epoch [31], 训练耗时：4.63s, val_loss1: 0.0314, val_loss2: -0.0296\n",
      "Epoch [32], 训练耗时：4.13s, val_loss1: 0.0320, val_loss2: -0.0303\n",
      "Epoch [33], 训练耗时：4.49s, val_loss1: 0.0313, val_loss2: -0.0296\n",
      "Epoch [34], 训练耗时：4.27s, val_loss1: 0.0320, val_loss2: -0.0303\n",
      "Epoch [35], 训练耗时：4.10s, val_loss1: 0.0317, val_loss2: -0.0301\n",
      "Epoch [36], 训练耗时：4.47s, val_loss1: 0.0337, val_loss2: -0.0321\n",
      "Epoch [37], 训练耗时：4.09s, val_loss1: 0.0314, val_loss2: -0.0299\n",
      "Epoch [38], 训练耗时：4.28s, val_loss1: 0.0321, val_loss2: -0.0306\n",
      "Epoch [39], 训练耗时：4.05s, val_loss1: 0.0317, val_loss2: -0.0303\n",
      "Epoch [40], 训练耗时：3.68s, val_loss1: 0.0325, val_loss2: -0.0311\n",
      "Epoch [41], 训练耗时：4.28s, val_loss1: 0.0315, val_loss2: -0.0301\n",
      "Epoch [42], 训练耗时：3.95s, val_loss1: 0.0317, val_loss2: -0.0303\n",
      "Epoch [43], 训练耗时：3.84s, val_loss1: 0.0318, val_loss2: -0.0305\n",
      "Epoch [44], 训练耗时：4.22s, val_loss1: 0.0322, val_loss2: -0.0310\n",
      "Epoch [45], 训练耗时：3.95s, val_loss1: 0.0318, val_loss2: -0.0305\n",
      "Epoch [46], 训练耗时：3.95s, val_loss1: 0.0318, val_loss2: -0.0306\n",
      "Epoch [47], 训练耗时：4.16s, val_loss1: 0.0320, val_loss2: -0.0308\n",
      "Epoch [48], 训练耗时：3.86s, val_loss1: 0.0323, val_loss2: -0.0311\n",
      "Epoch [49], 训练耗时：4.18s, val_loss1: 0.0319, val_loss2: -0.0307\n"
     ]
    }
   ],
   "source": [
    "history = training(N_EPOCHS,model,train_loader,val_loader)"
   ]
  },
  {
   "cell_type": "code",
   "execution_count": 58,
   "metadata": {
    "colab": {
     "base_uri": "https://localhost:8080/",
     "height": 295
    },
    "id": "fYwlN0JKVVtN",
    "outputId": "c742ff8b-3b4a-41f5-dd09-effee1be928a",
    "pycharm": {
     "is_executing": true
    }
   },
   "outputs": [
    {
     "data": {
      "image/png": "[encoded data removed]",
      "text/plain": [
       "<Figure size 640x480 with 1 Axes>"
      ]
     },
     "metadata": {},
     "output_type": "display_data"
    }
   ],
   "source": [
    "plot_history(history)"
   ]
  },
  {
   "cell_type": "code",
   "execution_count": 72,
   "metadata": {
    "id": "ieObNqKYsOzh",
    "pycharm": {
     "is_executing": true
    }
   },
   "outputs": [],
   "source": [
    "torch.save({\n",
    "            'encoder': model.encoder.state_dict(),\n",
    "            'decoder1': model.decoder1.state_dict(),\n",
    "            'decoder2': model.decoder2.state_dict()\n",
    "            }, \"model.pth\")"
   ]
  },
  {
   "cell_type": "markdown",
   "metadata": {
    "id": "ymhjbmvR_DgJ"
   },
   "source": [
    "## Testing"
   ]
  },
  {
   "cell_type": "code",
   "execution_count": 73,
   "metadata": {
    "colab": {
     "base_uri": "https://localhost:8080/",
     "height": 34
    },
    "id": "b7rbm9wdXKeF",
    "outputId": "076309c7-22be-41f6-f916-5f11cb679672",
    "pycharm": {
     "is_executing": true
    }
   },
   "outputs": [
    {
     "data": {
      "text/plain": [
       "<All keys matched successfully>"
      ]
     },
     "execution_count": 73,
     "metadata": {},
     "output_type": "execute_result"
    }
   ],
   "source": [
    "checkpoint = torch.load(\"model.pth\")\n",
    "\n",
    "model.encoder.load_state_dict(checkpoint['encoder'])\n",
    "model.decoder1.load_state_dict(checkpoint['decoder1'])\n",
    "model.decoder2.load_state_dict(checkpoint['decoder2'])"
   ]
  },
  {
   "cell_type": "code",
   "execution_count": 74,
   "metadata": {
    "pycharm": {
     "is_executing": true
    }
   },
   "outputs": [
    {
     "name": "stdout",
     "output_type": "stream",
     "text": [
      "[0.01954766 0.01966042 0.01972556 ... 0.00236442 0.00234378 0.00222256]\n"
     ]
    }
   ],
   "source": [
    "#测试集测试，并展开成数组\n",
    "results=testing(model,test_loader)\n",
    "y_pred=np.concatenate([torch.stack(results[:-1]).flatten().detach().cpu().numpy(),\n",
    "                              results[-1].flatten().detach().cpu().numpy()])\n",
    "print(y_pred)"
   ]
  },
  {
   "cell_type": "code",
   "execution_count": 75,
   "metadata": {
    "pycharm": {
     "is_executing": true
    }
   },
   "outputs": [
    {
     "ename": "KeyboardInterrupt",
     "evalue": "",
     "output_type": "error",
     "traceback": [
      "\u001B[1;31m---------------------------------------------------------------------------\u001B[0m",
      "\u001B[1;31mKeyboardInterrupt\u001B[0m                         Traceback (most recent call last)",
      "\u001B[1;32m~\\AppData\\Local\\Temp\\ipykernel_2524\\962582600.py\u001B[0m in \u001B[0;36m<module>\u001B[1;34m\u001B[0m\n\u001B[0;32m      2\u001B[0m \u001B[0mwindows_labels\u001B[0m\u001B[1;33m=\u001B[0m\u001B[1;33m[\u001B[0m\u001B[1;33m]\u001B[0m\u001B[1;33m\u001B[0m\u001B[1;33m\u001B[0m\u001B[0m\n\u001B[0;32m      3\u001B[0m \u001B[1;32mfor\u001B[0m \u001B[0mi\u001B[0m \u001B[1;32min\u001B[0m \u001B[0mrange\u001B[0m\u001B[1;33m(\u001B[0m\u001B[0mlen\u001B[0m\u001B[1;33m(\u001B[0m\u001B[0mlabels\u001B[0m\u001B[1;33m)\u001B[0m\u001B[1;33m-\u001B[0m\u001B[0mwindow_size\u001B[0m\u001B[1;33m)\u001B[0m\u001B[1;33m:\u001B[0m\u001B[1;33m\u001B[0m\u001B[1;33m\u001B[0m\u001B[0m\n\u001B[1;32m----> 4\u001B[1;33m     \u001B[0mwindows_labels\u001B[0m\u001B[1;33m.\u001B[0m\u001B[0mappend\u001B[0m\u001B[1;33m(\u001B[0m\u001B[0mlist\u001B[0m\u001B[1;33m(\u001B[0m\u001B[0mnp\u001B[0m\u001B[1;33m.\u001B[0m\u001B[0mint_\u001B[0m\u001B[1;33m(\u001B[0m\u001B[0mlabels\u001B[0m\u001B[1;33m[\u001B[0m\u001B[0mi\u001B[0m\u001B[1;33m:\u001B[0m\u001B[0mi\u001B[0m\u001B[1;33m+\u001B[0m\u001B[0mwindow_size\u001B[0m\u001B[1;33m]\u001B[0m\u001B[1;33m)\u001B[0m\u001B[1;33m)\u001B[0m\u001B[1;33m)\u001B[0m\u001B[1;33m\u001B[0m\u001B[1;33m\u001B[0m\u001B[0m\n\u001B[0m\u001B[0;32m      5\u001B[0m \u001B[1;31m#以窗口为单位设置异常\u001B[0m\u001B[1;33m\u001B[0m\u001B[1;33m\u001B[0m\u001B[1;33m\u001B[0m\u001B[0m\n\u001B[0;32m      6\u001B[0m \u001B[0my_test\u001B[0m \u001B[1;33m=\u001B[0m \u001B[1;33m[\u001B[0m\u001B[1;36m1.0\u001B[0m \u001B[1;32mif\u001B[0m \u001B[1;33m(\u001B[0m\u001B[0mnp\u001B[0m\u001B[1;33m.\u001B[0m\u001B[0msum\u001B[0m\u001B[1;33m(\u001B[0m\u001B[0mwindow\u001B[0m\u001B[1;33m)\u001B[0m \u001B[1;33m>\u001B[0m \u001B[1;36m0\u001B[0m\u001B[1;33m)\u001B[0m \u001B[1;32melse\u001B[0m \u001B[1;36m0\u001B[0m \u001B[1;32mfor\u001B[0m \u001B[0mwindow\u001B[0m \u001B[1;32min\u001B[0m \u001B[0mwindows_labels\u001B[0m \u001B[1;33m]\u001B[0m\u001B[1;33m\u001B[0m\u001B[1;33m\u001B[0m\u001B[0m\n",
      "\u001B[1;31mKeyboardInterrupt\u001B[0m: "
     ]
    }
   ],
   "source": [
    "#标签窗口化\n",
    "windows_labels=[]\n",
    "for i in range(len(labels)-window_size):\n",
    "    windows_labels.append(list(np.int_(labels[i:i+window_size])))\n",
    "#以窗口为单位设置异常\n",
    "y_test = [1.0 if (np.sum(window) > 0) else 0 for window in windows_labels ]\n",
    "print(len(y_test))"
   ]
  },
  {
   "cell_type": "code",
   "execution_count": null,
   "metadata": {
    "colab": {
     "base_uri": "https://localhost:8080/",
     "height": 279
    },
    "id": "bROUyLM93cG3",
    "outputId": "755359d9-d0fb-4deb-b313-d3c2a2465a26",
    "pycharm": {
     "is_executing": true,
     "name": "#%%\n"
    },
    "scrolled": false
   },
   "outputs": [],
   "source": [
    "threshold=ROC(y_test,y_pred)"
   ]
  },
  {
   "cell_type": "code",
   "execution_count": null,
   "metadata": {
    "pycharm": {
     "is_executing": true
    }
   },
   "outputs": [],
   "source": []
  },
  {
   "cell_type": "code",
   "execution_count": null,
   "metadata": {},
   "outputs": [],
   "source": []
  }
 ],
 "metadata": {
  "accelerator": "GPU",
  "colab": {
   "name": "USAD_test.ipynb",
   "provenance": [],
   "toc_visible": true
  },
  "kernelspec": {
   "display_name": "Python 3 (ipykernel)",
   "language": "python",
   "name": "python3"
  },
  "language_info": {
   "codemirror_mode": {
    "name": "ipython",
    "version": 3
   },
   "file_extension": ".py",
   "mimetype": "text/x-python",
   "name": "python",
   "nbconvert_exporter": "python",
   "pygments_lexer": "ipython3",
   "version": "3.7.1"
  }
 },
 "nbformat": 4,
 "nbformat_minor": 4
}