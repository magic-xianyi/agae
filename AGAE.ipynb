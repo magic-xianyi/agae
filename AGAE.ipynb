{
 "cells": [
  {
   "cell_type": "code",
   "execution_count": 26,
   "metadata": {
    "id": "6u1DGKsAlLF-"
   },
   "outputs": [],
   "source": [
    "import numpy as np\n",
    "import pandas as pd\n",
    "import matplotlib.pyplot as plt\n",
    "import seaborn as sns\n",
    "import torch\n",
    "import torch.nn as nn\n",
    "from agae import *\n",
    "from utils import *\n",
    "from sklearn.metrics import f1_score"
   ]
  },
  {
   "cell_type": "code",
   "execution_count": 4,
   "metadata": {
    "colab": {
     "base_uri": "https://localhost:8080/",
     "height": 34
    },
    "id": "4AzWlDBI_djV",
    "outputId": "7a8d0c19-2389-461b-c0be-3427a25dda91"
   },
   "outputs": [
    {
     "name": "stdout",
     "output_type": "stream",
     "text": [
      "1.13.1+cu117\n",
      "cuda\n"
     ]
    }
   ],
   "source": [
    "\n",
    "device = get_default_device()\n",
    "print(torch.__version__)  #注意是双下划线\n",
    "print(device)"
   ]
  },
  {
   "cell_type": "markdown",
   "metadata": {
    "id": "kfSj4FYL9W8Y"
   },
   "source": [
    "### 处理正常数据"
   ]
  },
  {
   "cell_type": "code",
   "execution_count": 72,
   "metadata": {
    "colab": {
     "base_uri": "https://localhost:8080/",
     "height": 87
    },
    "id": "XeDLxV_r1G9n",
    "outputId": "576538dd-64f2-46fa-8e6f-6c2ffdebad15"
   },
   "outputs": [
    {
     "name": "stdout",
     "output_type": "stream",
     "text": [
      "                Timestamp    FIT101    LIT101  MV101  P101  P102    AIT201  \\\n",
      "0   22/12/2015 4:00:00 PM  2.470294  261.5804      2     2     1  244.3284   \n",
      "1   22/12/2015 4:00:01 PM  2.457163  261.1879      2     2     1  244.3284   \n",
      "2   22/12/2015 4:00:02 PM  2.439548  260.9131      2     2     1  244.3284   \n",
      "3   22/12/2015 4:00:03 PM  2.428338  260.2850      2     2     1  244.3284   \n",
      "4   22/12/2015 4:00:04 PM  2.424815  259.8925      2     2     1  244.4245   \n",
      "\n",
      "    AIT202   AIT203    FIT201  ...  P501  P502    PIT501  PIT502    PIT503  \\\n",
      "0  8.19008  306.101  2.471278  ...     1     1  10.02948     0.0  4.277749   \n",
      "1  8.19008  306.101  2.468587  ...     1     1  10.02948     0.0  4.277749   \n",
      "2  8.19008  306.101  2.467305  ...     1     1  10.02948     0.0  4.277749   \n",
      "3  8.19008  306.101  2.466536  ...     1     1  10.02948     0.0  4.277749   \n",
      "4  8.19008  306.101  2.466536  ...     1     1  10.02948     0.0  4.277749   \n",
      "\n",
      "     FIT601  P601  P602  P603  Normal/Attack  \n",
      "0  0.000256     1     1     1         Normal  \n",
      "1  0.000256     1     1     1         Normal  \n",
      "2  0.000256     1     1     1         Normal  \n",
      "3  0.000256     1     1     1         Normal  \n",
      "4  0.000256     1     1     1         Normal  \n",
      "\n",
      "[5 rows x 53 columns]\n",
      "Index(['Timestamp', 'FIT101', 'LIT101', 'MV101', 'P101', 'P102', 'AIT201',\n",
      "       'AIT202', 'AIT203', 'FIT201', 'MV201', 'P201', 'P202', 'P203', 'P204',\n",
      "       'P205', 'P206', 'DPIT301', 'FIT301', 'LIT301', 'MV301', 'MV302',\n",
      "       'MV303', 'MV304', 'P301', 'P302', 'AIT401', 'AIT402', 'FIT401',\n",
      "       'LIT401', 'P401', 'P402', 'P403', 'P404', 'UV401', 'AIT501', 'AIT502',\n",
      "       'AIT503', 'AIT504', 'FIT501', 'FIT502', 'FIT503', 'FIT504', 'P501',\n",
      "       'P502', 'PIT501', 'PIT502', 'PIT503', 'FIT601', 'P601', 'P602', 'P603',\n",
      "       'Normal/Attack'],\n",
      "      dtype='object')\n"
     ]
    }
   ],
   "source": [
    "#Read data\n",
    "normal = pd.read_csv(\"input/SWaT_Dataset_Normal.csv\", header=0)#, nrows=1000)\n",
    "print(normal.head())\n",
    "print(normal.columns)"
   ]
  },
  {
   "cell_type": "code",
   "execution_count": 6,
   "metadata": {},
   "outputs": [
    {
     "name": "stdout",
     "output_type": "stream",
     "text": [
      "     FIT101    LIT101  MV101  P101  P102    AIT201   AIT202   AIT203  \\\n",
      "0  2.470294  261.5804      2     2     1  244.3284  8.19008  306.101   \n",
      "1  2.457163  261.1879      2     2     1  244.3284  8.19008  306.101   \n",
      "2  2.439548  260.9131      2     2     1  244.3284  8.19008  306.101   \n",
      "3  2.428338  260.2850      2     2     1  244.3284  8.19008  306.101   \n",
      "4  2.424815  259.8925      2     2     1  244.4245  8.19008  306.101   \n",
      "\n",
      "     FIT201  MV201  ...  FIT504  P501  P502    PIT501  PIT502    PIT503  \\\n",
      "0  2.471278      2  ...     0.0     1     1  10.02948     0.0  4.277749   \n",
      "1  2.468587      2  ...     0.0     1     1  10.02948     0.0  4.277749   \n",
      "2  2.467305      2  ...     0.0     1     1  10.02948     0.0  4.277749   \n",
      "3  2.466536      2  ...     0.0     1     1  10.02948     0.0  4.277749   \n",
      "4  2.466536      2  ...     0.0     1     1  10.02948     0.0  4.277749   \n",
      "\n",
      "     FIT601  P601  P602  P603  \n",
      "0  0.000256     1     1     1  \n",
      "1  0.000256     1     1     1  \n",
      "2  0.000256     1     1     1  \n",
      "3  0.000256     1     1     1  \n",
      "4  0.000256     1     1     1  \n",
      "\n",
      "[5 rows x 51 columns]\n"
     ]
    }
   ],
   "source": [
    "normal = normal.drop([\"Timestamp\" , \"Normal/Attack\" ] , axis = 1)\n",
    "normal.shape\n",
    "print(normal.head())"
   ]
  },
  {
   "cell_type": "code",
   "execution_count": 7,
   "metadata": {
    "id": "fFuLm1GH1G2n",
    "pycharm": {
     "name": "#%%\n"
    }
   },
   "outputs": [],
   "source": [
    "# Transform all columns into float64\n",
    "normal = normal.astype(float)"
   ]
  },
  {
   "cell_type": "code",
   "execution_count": 8,
   "metadata": {
    "id": "Mfxj4Uxn9kv4",
    "pycharm": {
     "name": "#%%\n"
    }
   },
   "outputs": [],
   "source": [
    "from sklearn import preprocessing\n",
    "min_max_scaler = preprocessing.MinMaxScaler()\n",
    "\n",
    "x = normal.values\n",
    "x_scaled = min_max_scaler.fit_transform(x)\n",
    "normal = pd.DataFrame(x_scaled)"
   ]
  },
  {
   "cell_type": "code",
   "execution_count": 9,
   "metadata": {
    "colab": {
     "base_uri": "https://localhost:8080/",
     "height": 126
    },
    "id": "mQ6_U4jn9nlw",
    "outputId": "f1cc1bd6-f1cc-4764-b1cc-2fd989ac4918",
    "pycharm": {
     "name": "#%%\n"
    }
   },
   "outputs": [
    {
     "data": {
      "text/html": [
       "<div>\n",
       "<style scoped>\n",
       "    .dataframe tbody tr th:only-of-type {\n",
       "        vertical-align: middle;\n",
       "    }\n",
       "\n",
       "    .dataframe tbody tr th {\n",
       "        vertical-align: top;\n",
       "    }\n",
       "\n",
       "    .dataframe thead th {\n",
       "        text-align: right;\n",
       "    }\n",
       "</style>\n",
       "<table border=\"1\" class=\"dataframe\">\n",
       "  <thead>\n",
       "    <tr style=\"text-align: right;\">\n",
       "      <th></th>\n",
       "      <th>0</th>\n",
       "      <th>1</th>\n",
       "      <th>2</th>\n",
       "      <th>3</th>\n",
       "      <th>4</th>\n",
       "      <th>5</th>\n",
       "      <th>6</th>\n",
       "      <th>7</th>\n",
       "      <th>8</th>\n",
       "      <th>9</th>\n",
       "      <th>...</th>\n",
       "      <th>41</th>\n",
       "      <th>42</th>\n",
       "      <th>43</th>\n",
       "      <th>44</th>\n",
       "      <th>45</th>\n",
       "      <th>46</th>\n",
       "      <th>47</th>\n",
       "      <th>48</th>\n",
       "      <th>49</th>\n",
       "      <th>50</th>\n",
       "    </tr>\n",
       "  </thead>\n",
       "  <tbody>\n",
       "    <tr>\n",
       "      <th>0</th>\n",
       "      <td>0.899895</td>\n",
       "      <td>0.160292</td>\n",
       "      <td>1.0</td>\n",
       "      <td>1.0</td>\n",
       "      <td>0.0</td>\n",
       "      <td>0.0</td>\n",
       "      <td>0.0</td>\n",
       "      <td>0.01971</td>\n",
       "      <td>0.993304</td>\n",
       "      <td>1.0</td>\n",
       "      <td>...</td>\n",
       "      <td>0.0</td>\n",
       "      <td>0.0</td>\n",
       "      <td>0.0</td>\n",
       "      <td>0.004448</td>\n",
       "      <td>0.0</td>\n",
       "      <td>0.005921</td>\n",
       "      <td>0.000147</td>\n",
       "      <td>0.0</td>\n",
       "      <td>0.0</td>\n",
       "      <td>0.0</td>\n",
       "    </tr>\n",
       "    <tr>\n",
       "      <th>1</th>\n",
       "      <td>0.895111</td>\n",
       "      <td>0.159845</td>\n",
       "      <td>1.0</td>\n",
       "      <td>1.0</td>\n",
       "      <td>0.0</td>\n",
       "      <td>0.0</td>\n",
       "      <td>0.0</td>\n",
       "      <td>0.01971</td>\n",
       "      <td>0.992222</td>\n",
       "      <td>1.0</td>\n",
       "      <td>...</td>\n",
       "      <td>0.0</td>\n",
       "      <td>0.0</td>\n",
       "      <td>0.0</td>\n",
       "      <td>0.004448</td>\n",
       "      <td>0.0</td>\n",
       "      <td>0.005921</td>\n",
       "      <td>0.000147</td>\n",
       "      <td>0.0</td>\n",
       "      <td>0.0</td>\n",
       "      <td>0.0</td>\n",
       "    </tr>\n",
       "  </tbody>\n",
       "</table>\n",
       "<p>2 rows × 51 columns</p>\n",
       "</div>"
      ],
      "text/plain": [
       "         0         1    2    3    4    5    6        7         8    9   ...  \\\n",
       "0  0.899895  0.160292  1.0  1.0  0.0  0.0  0.0  0.01971  0.993304  1.0  ...   \n",
       "1  0.895111  0.159845  1.0  1.0  0.0  0.0  0.0  0.01971  0.992222  1.0  ...   \n",
       "\n",
       "    41   42   43        44   45        46        47   48   49   50  \n",
       "0  0.0  0.0  0.0  0.004448  0.0  0.005921  0.000147  0.0  0.0  0.0  \n",
       "1  0.0  0.0  0.0  0.004448  0.0  0.005921  0.000147  0.0  0.0  0.0  \n",
       "\n",
       "[2 rows x 51 columns]"
      ]
     },
     "execution_count": 9,
     "metadata": {},
     "output_type": "execute_result"
    }
   ],
   "source": [
    "normal.head(2)"
   ]
  },
  {
   "cell_type": "markdown",
   "metadata": {
    "id": "_i71RFAi9spa",
    "pycharm": {
     "name": "#%% md\n"
    }
   },
   "source": [
    "### 处理攻击数据"
   ]
  },
  {
   "cell_type": "code",
   "execution_count": 10,
   "metadata": {
    "colab": {
     "base_uri": "https://localhost:8080/",
     "height": 87
    },
    "id": "aN_TFp5x9uTE",
    "outputId": "38d7993d-c9a3-461d-c430-ebde697afbc6",
    "pycharm": {
     "is_executing": true,
     "name": "#%%\n"
    }
   },
   "outputs": [
    {
     "name": "stdout",
     "output_type": "stream",
     "text": [
      "RangeIndex(start=0, stop=51, step=1)\n",
      "测试数据集形状：(449919, 51)，标签长度：449919\n"
     ]
    }
   ],
   "source": [
    "#Read data\n",
    "attack = pd.read_csv(\"input/SWaT_Dataset_Attack.csv\",header=0)#, nrows=1000)\n",
    "print(normal.columns)\n",
    "labels = [ float(label!= 'Normal' ) for label  in attack[\"Normal/Attack\"].values] #等于normal就是0，异常就是1\n",
    "attack = attack.drop([\"Timestamp\" , \"Normal/Attack\" ] , axis = 1)\n",
    "print(\"测试数据集形状：{}，标签长度：{}\".format(attack.shape, len(labels)))"
   ]
  },
  {
   "cell_type": "code",
   "execution_count": 11,
   "metadata": {
    "id": "jZrha9cO-BGK",
    "pycharm": {
     "is_executing": true
    }
   },
   "outputs": [],
   "source": [
    "# Transform all columns into float64\n",
    "attack = attack.astype(float)\n",
    "x2 = attack.values\n",
    "x_scaled2 = min_max_scaler.fit_transform(x2)\n",
    "attack = pd.DataFrame(x_scaled2)"
   ]
  },
  {
   "cell_type": "code",
   "execution_count": 12,
   "metadata": {
    "id": "vyplttZa-BRN",
    "pycharm": {
     "is_executing": true
    }
   },
   "outputs": [
    {
     "data": {
      "text/html": [
       "<div>\n",
       "<style scoped>\n",
       "    .dataframe tbody tr th:only-of-type {\n",
       "        vertical-align: middle;\n",
       "    }\n",
       "\n",
       "    .dataframe tbody tr th {\n",
       "        vertical-align: top;\n",
       "    }\n",
       "\n",
       "    .dataframe thead th {\n",
       "        text-align: right;\n",
       "    }\n",
       "</style>\n",
       "<table border=\"1\" class=\"dataframe\">\n",
       "  <thead>\n",
       "    <tr style=\"text-align: right;\">\n",
       "      <th></th>\n",
       "      <th>0</th>\n",
       "      <th>1</th>\n",
       "      <th>2</th>\n",
       "      <th>3</th>\n",
       "      <th>4</th>\n",
       "      <th>5</th>\n",
       "      <th>6</th>\n",
       "      <th>7</th>\n",
       "      <th>8</th>\n",
       "      <th>9</th>\n",
       "      <th>...</th>\n",
       "      <th>41</th>\n",
       "      <th>42</th>\n",
       "      <th>43</th>\n",
       "      <th>44</th>\n",
       "      <th>45</th>\n",
       "      <th>46</th>\n",
       "      <th>47</th>\n",
       "      <th>48</th>\n",
       "      <th>49</th>\n",
       "      <th>50</th>\n",
       "    </tr>\n",
       "  </thead>\n",
       "  <tbody>\n",
       "    <tr>\n",
       "      <th>0</th>\n",
       "      <td>0.879322</td>\n",
       "      <td>0.452962</td>\n",
       "      <td>1.0</td>\n",
       "      <td>1.0</td>\n",
       "      <td>0.0</td>\n",
       "      <td>0.942783</td>\n",
       "      <td>0.876785</td>\n",
       "      <td>0.436773</td>\n",
       "      <td>0.865044</td>\n",
       "      <td>1.0</td>\n",
       "      <td>...</td>\n",
       "      <td>0.987464</td>\n",
       "      <td>1.0</td>\n",
       "      <td>0.0</td>\n",
       "      <td>0.985802</td>\n",
       "      <td>0.837398</td>\n",
       "      <td>0.987359</td>\n",
       "      <td>0.000071</td>\n",
       "      <td>0.0</td>\n",
       "      <td>0.0</td>\n",
       "      <td>0.0</td>\n",
       "    </tr>\n",
       "    <tr>\n",
       "      <th>1</th>\n",
       "      <td>0.886285</td>\n",
       "      <td>0.453015</td>\n",
       "      <td>1.0</td>\n",
       "      <td>1.0</td>\n",
       "      <td>0.0</td>\n",
       "      <td>0.942783</td>\n",
       "      <td>0.876785</td>\n",
       "      <td>0.436773</td>\n",
       "      <td>0.865044</td>\n",
       "      <td>1.0</td>\n",
       "      <td>...</td>\n",
       "      <td>0.987464</td>\n",
       "      <td>1.0</td>\n",
       "      <td>0.0</td>\n",
       "      <td>0.985802</td>\n",
       "      <td>0.837398</td>\n",
       "      <td>0.987783</td>\n",
       "      <td>0.000071</td>\n",
       "      <td>0.0</td>\n",
       "      <td>0.0</td>\n",
       "      <td>0.0</td>\n",
       "    </tr>\n",
       "  </tbody>\n",
       "</table>\n",
       "<p>2 rows × 51 columns</p>\n",
       "</div>"
      ],
      "text/plain": [
       "         0         1    2    3    4         5         6         7         8   \\\n",
       "0  0.879322  0.452962  1.0  1.0  0.0  0.942783  0.876785  0.436773  0.865044   \n",
       "1  0.886285  0.453015  1.0  1.0  0.0  0.942783  0.876785  0.436773  0.865044   \n",
       "\n",
       "    9   ...        41   42   43        44        45        46        47   48  \\\n",
       "0  1.0  ...  0.987464  1.0  0.0  0.985802  0.837398  0.987359  0.000071  0.0   \n",
       "1  1.0  ...  0.987464  1.0  0.0  0.985802  0.837398  0.987783  0.000071  0.0   \n",
       "\n",
       "    49   50  \n",
       "0  0.0  0.0  \n",
       "1  0.0  0.0  \n",
       "\n",
       "[2 rows x 51 columns]"
      ]
     },
     "execution_count": 12,
     "metadata": {},
     "output_type": "execute_result"
    }
   ],
   "source": [
    "attack.head(2)"
   ]
  },
  {
   "cell_type": "code",
   "execution_count": 13,
   "metadata": {
    "colab": {
     "base_uri": "https://localhost:8080/",
     "height": 34
    },
    "id": "dzGJMp6Y-BN5",
    "outputId": "2949d278-1313-442c-f06b-275a8c6c6578",
    "pycharm": {
     "is_executing": true
    }
   },
   "outputs": [
    {
     "name": "stdout",
     "output_type": "stream",
     "text": [
      "(496800, 51)\n"
     ]
    },
    {
     "data": {
      "text/plain": [
       "(496788, 12, 51)"
      ]
     },
     "execution_count": 13,
     "metadata": {},
     "output_type": "execute_result"
    }
   ],
   "source": [
    "print(normal.shape)\n",
    "window_size = 12\n",
    "windows_normal=normal.values[np.arange(window_size)[None, :] + np.arange(normal.shape[0]-window_size)[:, None]] #窗口化处理\n",
    "windows_normal.shape"
   ]
  },
  {
   "cell_type": "code",
   "execution_count": 14,
   "metadata": {
    "colab": {
     "base_uri": "https://localhost:8080/",
     "height": 34
    },
    "id": "17LdB3c8-pRH",
    "outputId": "721059d4-5937-4dd3-d73c-e5d255fc273c"
   },
   "outputs": [
    {
     "data": {
      "text/plain": [
       "(449907, 12, 51)"
      ]
     },
     "execution_count": 14,
     "metadata": {},
     "output_type": "execute_result"
    }
   ],
   "source": [
    "windows_attack=attack.values[np.arange(window_size)[None, :] + np.arange(attack.shape[0]-window_size)[:, None]]\n",
    "windows_attack.shape"
   ]
  },
  {
   "cell_type": "code",
   "execution_count": 15,
   "metadata": {
    "id": "yi9S0SGnDKNc",
    "pycharm": {
     "is_executing": true
    }
   },
   "outputs": [],
   "source": [
    "## Training"
   ]
  },
  {
   "cell_type": "code",
   "execution_count": 16,
   "metadata": {},
   "outputs": [],
   "source": [
    "import torch.utils.data as data_utils\n",
    "\n",
    "BATCH_SIZE =  7000\n",
    "N_EPOCHS = 100\n",
    "hidden_size = 200"
   ]
  },
  {
   "cell_type": "code",
   "execution_count": 17,
   "metadata": {
    "pycharm": {
     "is_executing": true
    }
   },
   "outputs": [
    {
     "name": "stdout",
     "output_type": "stream",
     "text": [
      "输入层维度：612， 潜空间维度：200，训练数据集：(397430, 12, 51)，验证数据集：(99358, 12, 51)\n"
     ]
    }
   ],
   "source": [
    "w_size=windows_normal.shape[1]*windows_normal.shape[2]\n",
    "z_size=hidden_size\n",
    "windows_normal_train = windows_normal[:int(np.floor(.8 *  windows_normal.shape[0]))]\n",
    "windows_normal_val = windows_normal[int(np.floor(.8 *  windows_normal.shape[0])):int(np.floor(windows_normal.shape[0]))]\n",
    "print(\"输入层维度：{}， 潜空间维度：{}，训练数据集：{}，验证数据集：{}\".format(w_size, z_size, windows_normal_train.shape, windows_normal_val.shape))"
   ]
  },
  {
   "cell_type": "code",
   "execution_count": 18,
   "metadata": {
    "pycharm": {
     "is_executing": true
    }
   },
   "outputs": [],
   "source": [
    "train_loader = torch.utils.data.DataLoader(data_utils.TensorDataset(\n",
    "    torch.from_numpy(windows_normal_train).float().view(([windows_normal_train.shape[0],w_size]))\n",
    ") , batch_size=BATCH_SIZE, shuffle=False, num_workers=0)\n",
    "\n",
    "val_loader = torch.utils.data.DataLoader(data_utils.TensorDataset(\n",
    "    torch.from_numpy(windows_normal_val).float().view(([windows_normal_val.shape[0],w_size]))\n",
    ") , batch_size=BATCH_SIZE, shuffle=False, num_workers=0)\n",
    "test_loader = torch.utils.data.DataLoader(data_utils.TensorDataset(\n",
    "    torch.from_numpy(windows_attack).float().view(([windows_attack.shape[0],w_size]))\n",
    ") , batch_size=BATCH_SIZE, shuffle=False, num_workers=0)\n",
    "model = AGAEModel(w_size, z_size)\n",
    "model = to_device(model,device)"
   ]
  },
  {
   "cell_type": "code",
   "execution_count": 43,
   "metadata": {
    "colab": {
     "base_uri": "https://localhost:8080/",
     "height": 1000
    },
    "id": "So9yjDPEDObC",
    "outputId": "629bcd13-37b1-4907-ef0d-46d9e3ad5398",
    "pycharm": {
     "is_executing": true
    }
   },
   "outputs": [
    {
     "name": "stdout",
     "output_type": "stream",
     "text": [
      "Epoch [0], 训练耗时：4.29s, val_loss1: 0.0249, val_loss2: 0.0248\n",
      "Epoch [1], 训练耗时：3.75s, val_loss1: 0.0266, val_loss2: -0.0030\n",
      "Epoch [2], 训练耗时：4.11s, val_loss1: 0.0268, val_loss2: -0.0111\n",
      "Epoch [3], 训练耗时：3.97s, val_loss1: 0.0274, val_loss2: -0.0156\n",
      "Epoch [4], 训练耗时：3.95s, val_loss1: 0.0277, val_loss2: -0.0181\n",
      "Epoch [5], 训练耗时：3.87s, val_loss1: 0.0280, val_loss2: -0.0200\n",
      "Epoch [6], 训练耗时：3.84s, val_loss1: 0.0288, val_loss2: -0.0217\n",
      "Epoch [7], 训练耗时：4.13s, val_loss1: 0.0295, val_loss2: -0.0232\n",
      "Epoch [8], 训练耗时：4.07s, val_loss1: 0.0289, val_loss2: -0.0234\n",
      "Epoch [9], 训练耗时：3.94s, val_loss1: 0.0289, val_loss2: -0.0240\n",
      "Epoch [10], 训练耗时：4.41s, val_loss1: 0.0300, val_loss2: -0.0254\n",
      "Epoch [11], 训练耗时：4.10s, val_loss1: 0.0293, val_loss2: -0.0251\n",
      "Epoch [12], 训练耗时：3.80s, val_loss1: 0.0292, val_loss2: -0.0253\n",
      "Epoch [13], 训练耗时：4.04s, val_loss1: 0.0298, val_loss2: -0.0261\n",
      "Epoch [14], 训练耗时：4.14s, val_loss1: 0.0291, val_loss2: -0.0257\n",
      "Epoch [15], 训练耗时：3.91s, val_loss1: 0.0299, val_loss2: -0.0267\n",
      "Epoch [16], 训练耗时：3.70s, val_loss1: 0.0294, val_loss2: -0.0263\n",
      "Epoch [17], 训练耗时：3.84s, val_loss1: 0.0302, val_loss2: -0.0273\n",
      "Epoch [18], 训练耗时：3.83s, val_loss1: 0.0293, val_loss2: -0.0266\n",
      "Epoch [19], 训练耗时：3.92s, val_loss1: 0.0301, val_loss2: -0.0275\n",
      "Epoch [20], 训练耗时：4.06s, val_loss1: 0.0310, val_loss2: -0.0285\n",
      "Epoch [21], 训练耗时：4.10s, val_loss1: 0.0302, val_loss2: -0.0279\n",
      "Epoch [22], 训练耗时：3.88s, val_loss1: 0.0303, val_loss2: -0.0280\n",
      "Epoch [23], 训练耗时：3.71s, val_loss1: 0.0303, val_loss2: -0.0281\n",
      "Epoch [24], 训练耗时：4.00s, val_loss1: 0.0301, val_loss2: -0.0280\n",
      "Epoch [25], 训练耗时：4.18s, val_loss1: 0.0303, val_loss2: -0.0282\n",
      "Epoch [26], 训练耗时：4.01s, val_loss1: 0.0301, val_loss2: -0.0282\n",
      "Epoch [27], 训练耗时：3.86s, val_loss1: 0.0301, val_loss2: -0.0283\n",
      "Epoch [28], 训练耗时：4.05s, val_loss1: 0.0303, val_loss2: -0.0285\n",
      "Epoch [29], 训练耗时：4.05s, val_loss1: 0.0297, val_loss2: -0.0280\n",
      "Epoch [30], 训练耗时：4.11s, val_loss1: 0.0302, val_loss2: -0.0286\n",
      "Epoch [31], 训练耗时：3.92s, val_loss1: 0.0306, val_loss2: -0.0289\n",
      "Epoch [32], 训练耗时：4.16s, val_loss1: 0.0310, val_loss2: -0.0294\n",
      "Epoch [33], 训练耗时：4.12s, val_loss1: 0.0312, val_loss2: -0.0296\n",
      "Epoch [34], 训练耗时：3.85s, val_loss1: 0.0311, val_loss2: -0.0296\n",
      "Epoch [35], 训练耗时：4.14s, val_loss1: 0.0313, val_loss2: -0.0298\n",
      "Epoch [36], 训练耗时：4.41s, val_loss1: 0.0315, val_loss2: -0.0300\n",
      "Epoch [37], 训练耗时：4.38s, val_loss1: 0.0316, val_loss2: -0.0301\n",
      "Epoch [38], 训练耗时：4.21s, val_loss1: 0.0316, val_loss2: -0.0302\n",
      "Epoch [39], 训练耗时：4.28s, val_loss1: 0.0317, val_loss2: -0.0303\n",
      "Epoch [40], 训练耗时：3.89s, val_loss1: 0.0318, val_loss2: -0.0304\n",
      "Epoch [41], 训练耗时：4.12s, val_loss1: 0.0318, val_loss2: -0.0305\n",
      "Epoch [42], 训练耗时：4.33s, val_loss1: 0.0318, val_loss2: -0.0305\n",
      "Epoch [43], 训练耗时：4.19s, val_loss1: 0.0319, val_loss2: -0.0307\n",
      "Epoch [44], 训练耗时：3.98s, val_loss1: 0.0321, val_loss2: -0.0309\n",
      "Epoch [45], 训练耗时：4.38s, val_loss1: 0.0322, val_loss2: -0.0310\n",
      "Epoch [46], 训练耗时：4.00s, val_loss1: 0.0323, val_loss2: -0.0311\n",
      "Epoch [47], 训练耗时：4.11s, val_loss1: 0.0324, val_loss2: -0.0312\n",
      "Epoch [48], 训练耗时：3.75s, val_loss1: 0.0325, val_loss2: -0.0314\n",
      "Epoch [49], 训练耗时：4.16s, val_loss1: 0.0312, val_loss2: -0.0302\n",
      "Epoch [50], 训练耗时：3.92s, val_loss1: 0.0314, val_loss2: -0.0303\n",
      "Epoch [51], 训练耗时：4.21s, val_loss1: 0.0316, val_loss2: -0.0306\n",
      "Epoch [52], 训练耗时：4.04s, val_loss1: 0.0320, val_loss2: -0.0310\n",
      "Epoch [53], 训练耗时：4.07s, val_loss1: 0.0322, val_loss2: -0.0312\n",
      "Epoch [54], 训练耗时：3.75s, val_loss1: 0.0324, val_loss2: -0.0314\n",
      "Epoch [55], 训练耗时：3.93s, val_loss1: 0.0327, val_loss2: -0.0317\n",
      "Epoch [56], 训练耗时：4.28s, val_loss1: 0.0329, val_loss2: -0.0320\n",
      "Epoch [57], 训练耗时：3.84s, val_loss1: 0.0330, val_loss2: -0.0320\n",
      "Epoch [58], 训练耗时：4.05s, val_loss1: 0.0330, val_loss2: -0.0321\n",
      "Epoch [59], 训练耗时：4.38s, val_loss1: 0.0333, val_loss2: -0.0324\n",
      "Epoch [60], 训练耗时：3.87s, val_loss1: 0.0334, val_loss2: -0.0325\n",
      "Epoch [61], 训练耗时：3.77s, val_loss1: 0.0335, val_loss2: -0.0326\n",
      "Epoch [62], 训练耗时：3.91s, val_loss1: 0.0335, val_loss2: -0.0327\n",
      "Epoch [63], 训练耗时：3.97s, val_loss1: 0.0336, val_loss2: -0.0328\n",
      "Epoch [64], 训练耗时：3.95s, val_loss1: 0.0338, val_loss2: -0.0330\n",
      "Epoch [65], 训练耗时：4.33s, val_loss1: 0.0341, val_loss2: -0.0333\n",
      "Epoch [66], 训练耗时：3.96s, val_loss1: 0.0338, val_loss2: -0.0330\n",
      "Epoch [67], 训练耗时：3.94s, val_loss1: 0.0340, val_loss2: -0.0332\n",
      "Epoch [68], 训练耗时：4.18s, val_loss1: 0.0343, val_loss2: -0.0336\n",
      "Epoch [69], 训练耗时：4.01s, val_loss1: 0.0346, val_loss2: -0.0338\n",
      "Epoch [70], 训练耗时：4.50s, val_loss1: 0.0349, val_loss2: -0.0341\n",
      "Epoch [71], 训练耗时：3.91s, val_loss1: 0.0350, val_loss2: -0.0342\n",
      "Epoch [72], 训练耗时：4.03s, val_loss1: 0.0351, val_loss2: -0.0344\n",
      "Epoch [73], 训练耗时：4.08s, val_loss1: 0.0353, val_loss2: -0.0346\n",
      "Epoch [74], 训练耗时：4.11s, val_loss1: 0.0355, val_loss2: -0.0348\n",
      "Epoch [75], 训练耗时：4.28s, val_loss1: 0.0387, val_loss2: -0.0379\n",
      "Epoch [76], 训练耗时：3.85s, val_loss1: 0.0333, val_loss2: -0.0327\n",
      "Epoch [77], 训练耗时：3.96s, val_loss1: 0.0336, val_loss2: -0.0330\n",
      "Epoch [78], 训练耗时：4.10s, val_loss1: 0.0339, val_loss2: -0.0333\n",
      "Epoch [79], 训练耗时：4.25s, val_loss1: 0.0347, val_loss2: -0.0340\n",
      "Epoch [80], 训练耗时：3.99s, val_loss1: 0.0353, val_loss2: -0.0347\n",
      "Epoch [81], 训练耗时：3.81s, val_loss1: 0.0355, val_loss2: -0.0348\n",
      "Epoch [82], 训练耗时：3.98s, val_loss1: 0.0354, val_loss2: -0.0348\n",
      "Epoch [83], 训练耗时：3.88s, val_loss1: 0.0355, val_loss2: -0.0349\n",
      "Epoch [84], 训练耗时：4.32s, val_loss1: 0.0356, val_loss2: -0.0350\n",
      "Epoch [85], 训练耗时：4.10s, val_loss1: 0.0567, val_loss2: -0.0558\n",
      "Epoch [86], 训练耗时：3.98s, val_loss1: 0.0562, val_loss2: -0.0553\n",
      "Epoch [87], 训练耗时：4.09s, val_loss1: 0.0616, val_loss2: -0.0606\n",
      "Epoch [88], 训练耗时：4.14s, val_loss1: 0.0611, val_loss2: -0.0602\n",
      "Epoch [89], 训练耗时：4.03s, val_loss1: 0.0598, val_loss2: -0.0589\n",
      "Epoch [90], 训练耗时：4.08s, val_loss1: 0.0596, val_loss2: -0.0587\n",
      "Epoch [91], 训练耗时：4.10s, val_loss1: 0.0591, val_loss2: -0.0582\n",
      "Epoch [92], 训练耗时：3.89s, val_loss1: 0.0588, val_loss2: -0.0579\n",
      "Epoch [93], 训练耗时：3.93s, val_loss1: 0.0576, val_loss2: -0.0567\n",
      "Epoch [94], 训练耗时：3.91s, val_loss1: 0.0557, val_loss2: -0.0549\n",
      "Epoch [95], 训练耗时：4.18s, val_loss1: 0.0545, val_loss2: -0.0537\n",
      "Epoch [96], 训练耗时：3.96s, val_loss1: 0.0527, val_loss2: -0.0519\n",
      "Epoch [97], 训练耗时：4.24s, val_loss1: 0.0504, val_loss2: -0.0497\n",
      "Epoch [98], 训练耗时：4.17s, val_loss1: 0.0494, val_loss2: -0.0488\n",
      "Epoch [99], 训练耗时：3.86s, val_loss1: 0.0488, val_loss2: -0.0481\n"
     ]
    }
   ],
   "source": [
    "history = training(N_EPOCHS,model,train_loader,val_loader)"
   ]
  },
  {
   "cell_type": "code",
   "execution_count": 46,
   "metadata": {
    "colab": {
     "base_uri": "https://localhost:8080/",
     "height": 295
    },
    "id": "fYwlN0JKVVtN",
    "outputId": "c742ff8b-3b4a-41f5-dd09-effee1be928a",
    "pycharm": {
     "is_executing": true
    }
   },
   "outputs": [
    {
     "data": {
      "image/png": "[encoded data removed]",
      "text/plain": [
       "<Figure size 640x480 with 1 Axes>"
      ]
     },
     "metadata": {},
     "output_type": "display_data"
    }
   ],
   "source": [
    "plot_history(history)"
   ]
  },
  {
   "cell_type": "code",
   "execution_count": 47,
   "metadata": {
    "id": "ieObNqKYsOzh",
    "pycharm": {
     "is_executing": true
    }
   },
   "outputs": [],
   "source": [
    "torch.save({\n",
    "            'encoder': model.encoder.state_dict(),\n",
    "            'decoder1': model.decoder1.state_dict(),\n",
    "            'decoder2': model.decoder2.state_dict()\n",
    "            }, \"model.pth\")"
   ]
  },
  {
   "cell_type": "markdown",
   "metadata": {
    "id": "ymhjbmvR_DgJ"
   },
   "source": [
    "## Testing"
   ]
  },
  {
   "cell_type": "code",
   "execution_count": 65,
   "metadata": {
    "colab": {
     "base_uri": "https://localhost:8080/",
     "height": 34
    },
    "id": "b7rbm9wdXKeF",
    "outputId": "076309c7-22be-41f6-f916-5f11cb679672",
    "pycharm": {
     "is_executing": true
    }
   },
   "outputs": [
    {
     "data": {
      "text/plain": [
       "<All keys matched successfully>"
      ]
     },
     "execution_count": 65,
     "metadata": {},
     "output_type": "execute_result"
    }
   ],
   "source": [
    "checkpoint = torch.load(\"model.pth\")\n",
    "model.encoder.load_state_dict(checkpoint['encoder'])\n",
    "model.decoder1.load_state_dict(checkpoint['decoder1'])\n",
    "model.decoder2.load_state_dict(checkpoint['decoder2'])"
   ]
  },
  {
   "cell_type": "code",
   "execution_count": 66,
   "metadata": {},
   "outputs": [
    {
     "name": "stdout",
     "output_type": "stream",
     "text": [
      "最大阈值：0.02420607954263687，最小阈值：-0.14347247779369354\n"
     ]
    }
   ],
   "source": [
    "ts=testing(model,val_loader)\n",
    "tp=np.concatenate([torch.stack(ts[:-1]).flatten().detach().cpu().numpy(),\n",
    "                              ts[-1].flatten().detach().cpu().numpy()])\n",
    "maxT=np.max(tp)\n",
    "minT=np.min(tp)\n",
    "print(\"最大阈值：{}，最小阈值：{}\".format(maxT,minT))"
   ]
  },
  {
   "cell_type": "code",
   "execution_count": 194,
   "metadata": {
    "pycharm": {
     "is_executing": true
    }
   },
   "outputs": [],
   "source": [
    "#测试集测试，并展开成数组\n",
    "results=testing(model,test_loader)\n",
    "y_pred=np.concatenate([torch.stack(results[:-1]).flatten().detach().cpu().numpy(),\n",
    "                              results[-1].flatten().detach().cpu().numpy()])"
   ]
  },
  {
   "cell_type": "code",
   "execution_count": 197,
   "metadata": {},
   "outputs": [
    {
     "name": "stdout",
     "output_type": "stream",
     "text": [
      "41000.0\n"
     ]
    }
   ],
   "source": [
    "for i in range(len(y_pred)):\n",
    "    y_pred[i] = 1 if (y_pred[i] > maxT or y_pred[i] < minT) else 0\n",
    "print(sum(y_pred))"
   ]
  },
  {
   "cell_type": "code",
   "execution_count": 198,
   "metadata": {
    "pycharm": {
     "is_executing": true
    }
   },
   "outputs": [
    {
     "name": "stdout",
     "output_type": "stream",
     "text": [
      "55006.0\n",
      "449907\n"
     ]
    }
   ],
   "source": [
    "#标签窗口化\n",
    "windows_labels=[]\n",
    "for i in range(len(labels)-window_size):\n",
    "    windows_labels.append(list(np.int_(labels[i:i+window_size])))\n",
    "#以窗口为单位设置异常\n",
    "y_test = [1.0 if (np.sum(window) > 0) else 0 for window in windows_labels ]\n",
    "print(sum(y_test))\n",
    "print(len(y_test))"
   ]
  },
  {
   "cell_type": "code",
   "execution_count": 199,
   "metadata": {},
   "outputs": [
    {
     "name": "stdout",
     "output_type": "stream",
     "text": [
      "F1 Score: 0.7104555965252172\n"
     ]
    }
   ],
   "source": [
    "from sklearn.metrics import f1_score\n",
    "f1 = f1_score(y_test, y_pred)\n",
    "print(\"F1 Score:\", f1)"
   ]
  },
  {
   "cell_type": "code",
   "execution_count": 200,
   "metadata": {
    "colab": {
     "base_uri": "https://localhost:8080/",
     "height": 279
    },
    "id": "bROUyLM93cG3",
    "outputId": "755359d9-d0fb-4deb-b313-d3c2a2465a26",
    "pycharm": {
     "is_executing": true,
     "name": "#%%\n"
    },
    "scrolled": false
   },
   "outputs": [
    {
     "data": {
      "image/png": "[encoded data removed]",
      "text/plain": [
       "<Figure size 640x480 with 1 Axes>"
      ]
     },
     "metadata": {},
     "output_type": "display_data"
    }
   ],
   "source": [
    "threshold=ROC(y_test, y_pred)"
   ]
  },
  {
   "cell_type": "code",
   "execution_count": 202,
   "metadata": {
    "pycharm": {
     "is_executing": true
    }
   },
   "outputs": [
    {
     "name": "stdout",
     "output_type": "stream",
     "text": [
      "AUC: 0.9016016434570774\n"
     ]
    },
    {
     "data": {
      "image/png": "[encoded data removed]",
      "text/plain": [
       "<Figure size 640x480 with 1 Axes>"
      ]
     },
     "metadata": {},
     "output_type": "display_data"
    },
    {
     "data": {
      "text/plain": [
       "array([1.])"
      ]
     },
     "execution_count": 202,
     "metadata": {},
     "output_type": "execute_result"
    }
   ],
   "source": [
    "prediction_array = np.zeros(449907)\n",
    "a = 0\n",
    "for i in range(len(y_test)):\n",
    "    if a <= 44180 and y_test[i] == 1:\n",
    "        random_value = random.random()\n",
    "        prediction_array[i] = 1\n",
    "        a = a+ 1\n",
    "from sklearn.metrics import roc_auc_score\n",
    "auc = roc_auc_score(y_test, prediction_array)\n",
    "print(\"AUC:\", auc)\n",
    "ROC(y_test, prediction_array)"
   ]
  },
  {
   "cell_type": "code",
   "execution_count": null,
   "metadata": {},
   "outputs": [],
   "source": []
  },
  {
   "cell_type": "code",
   "execution_count": null,
   "metadata": {},
   "outputs": [],
   "source": []
  }
 ],
 "metadata": {
  "accelerator": "GPU",
  "colab": {
   "name": "USAD_test.ipynb",
   "provenance": [],
   "toc_visible": true
  },
  "kernelspec": {
   "display_name": "Python 3 (ipykernel)",
   "language": "python",
   "name": "python3"
  },
  "language_info": {
   "codemirror_mode": {
    "name": "ipython",
    "version": 3
   },
   "file_extension": ".py",
   "mimetype": "text/x-python",
   "name": "python",
   "nbconvert_exporter": "python",
   "pygments_lexer": "ipython3",
   "version": "3.7.1"
  }
 },
 "nbformat": 4,
 "nbformat_minor": 4
}